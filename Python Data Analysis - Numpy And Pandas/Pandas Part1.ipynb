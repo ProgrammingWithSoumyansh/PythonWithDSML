{
 "cells": [
  {
   "cell_type": "markdown",
   "id": "a40ce100-b863-4288-b649-bd87dd67e6ef",
   "metadata": {},
   "source": [
    "## Series"
   ]
  },
  {
   "cell_type": "code",
   "execution_count": 3,
   "id": "3b334a1c-ff82-4269-a40d-c62b36566403",
   "metadata": {},
   "outputs": [],
   "source": [
    "## first data type in pandas"
   ]
  },
  {
   "cell_type": "code",
   "execution_count": 5,
   "id": "05a5aa98-c58b-45cd-aec4-edd8a2a88cde",
   "metadata": {},
   "outputs": [],
   "source": [
    "## axis labels "
   ]
  },
  {
   "cell_type": "code",
   "execution_count": 7,
   "id": "8de17004-3122-4e85-9a7c-fdb4871443fd",
   "metadata": {},
   "outputs": [],
   "source": [
    "import numpy as np\n",
    "import pandas as pd"
   ]
  },
  {
   "cell_type": "code",
   "execution_count": 9,
   "id": "d22cc2fa-b35e-4463-945e-9a7195d79daf",
   "metadata": {},
   "outputs": [],
   "source": [
    "## pip install pandas"
   ]
  },
  {
   "cell_type": "markdown",
   "id": "6402bc1a-fdd1-49a9-a316-9ba608a7640a",
   "metadata": {},
   "source": [
    "## Creating a Series"
   ]
  },
  {
   "cell_type": "code",
   "execution_count": 12,
   "id": "d22bc406-ce50-49e9-9a59-9ba9939b1c97",
   "metadata": {},
   "outputs": [],
   "source": [
    "labels = ['a','b','c']\n",
    "my_list = [10,20,30]\n",
    "arr = np.array([5,10,15])\n",
    "d= {'a':10,'b':15,'c':20}"
   ]
  },
  {
   "cell_type": "code",
   "execution_count": 14,
   "id": "d3f6e534-2307-49fe-a972-28d5c774a5a9",
   "metadata": {},
   "outputs": [
    {
     "data": {
      "text/plain": [
       "0    10\n",
       "1    20\n",
       "2    30\n",
       "dtype: int64"
      ]
     },
     "execution_count": 14,
     "metadata": {},
     "output_type": "execute_result"
    }
   ],
   "source": [
    "pd.Series(data=my_list)"
   ]
  },
  {
   "cell_type": "code",
   "execution_count": 16,
   "id": "0d293ca2-a90e-401d-8cf2-92e95b9e7578",
   "metadata": {},
   "outputs": [
    {
     "data": {
      "text/plain": [
       "a    10\n",
       "b    20\n",
       "c    30\n",
       "dtype: int64"
      ]
     },
     "execution_count": 16,
     "metadata": {},
     "output_type": "execute_result"
    }
   ],
   "source": [
    "pd.Series(data=my_list,index=labels)"
   ]
  },
  {
   "cell_type": "code",
   "execution_count": 18,
   "id": "250ba554-68eb-4353-9caa-444865474757",
   "metadata": {},
   "outputs": [
    {
     "data": {
      "text/plain": [
       "a    10\n",
       "b    20\n",
       "c    30\n",
       "dtype: int64"
      ]
     },
     "execution_count": 18,
     "metadata": {},
     "output_type": "execute_result"
    }
   ],
   "source": [
    "pd.Series(my_list,labels)"
   ]
  },
  {
   "cell_type": "code",
   "execution_count": 20,
   "id": "72c3427a-8d69-4182-9315-baefb2e6510f",
   "metadata": {},
   "outputs": [],
   "source": [
    "## Series from numpy array"
   ]
  },
  {
   "cell_type": "code",
   "execution_count": 22,
   "id": "3f828f3f-e23b-4144-b69b-7d6a0d2759c5",
   "metadata": {},
   "outputs": [
    {
     "data": {
      "text/plain": [
       "0     5\n",
       "1    10\n",
       "2    15\n",
       "dtype: int32"
      ]
     },
     "execution_count": 22,
     "metadata": {},
     "output_type": "execute_result"
    }
   ],
   "source": [
    "pd.Series(arr)"
   ]
  },
  {
   "cell_type": "code",
   "execution_count": 24,
   "id": "eb9d02d4-a4bd-443d-b35e-1d3d6481b6dc",
   "metadata": {},
   "outputs": [
    {
     "data": {
      "text/plain": [
       "a     5\n",
       "b    10\n",
       "c    15\n",
       "dtype: int32"
      ]
     },
     "execution_count": 24,
     "metadata": {},
     "output_type": "execute_result"
    }
   ],
   "source": [
    "pd.Series(arr,labels)"
   ]
  },
  {
   "cell_type": "code",
   "execution_count": 26,
   "id": "ec0169f4-0711-4f9b-9472-77d526633d38",
   "metadata": {},
   "outputs": [],
   "source": [
    "## Series from Dictionary\n"
   ]
  },
  {
   "cell_type": "code",
   "execution_count": 28,
   "id": "81973257-eea6-4ab2-b909-1e4759c5f991",
   "metadata": {},
   "outputs": [
    {
     "data": {
      "text/plain": [
       "a    10\n",
       "b    15\n",
       "c    20\n",
       "dtype: int64"
      ]
     },
     "execution_count": 28,
     "metadata": {},
     "output_type": "execute_result"
    }
   ],
   "source": [
    "pd.Series(d)"
   ]
  },
  {
   "cell_type": "code",
   "execution_count": 30,
   "id": "1e161348-be21-41bf-89b1-c384cad216f5",
   "metadata": {},
   "outputs": [],
   "source": [
    "ser = pd.Series(d)"
   ]
  },
  {
   "cell_type": "code",
   "execution_count": 32,
   "id": "04e02c40-c792-498f-bb81-83e7bea9383f",
   "metadata": {},
   "outputs": [
    {
     "data": {
      "text/plain": [
       "a    10\n",
       "b    15\n",
       "c    20\n",
       "dtype: int64"
      ]
     },
     "execution_count": 32,
     "metadata": {},
     "output_type": "execute_result"
    }
   ],
   "source": [
    "ser"
   ]
  },
  {
   "cell_type": "code",
   "execution_count": 34,
   "id": "4b37fc00-623f-4806-a748-effe155782e6",
   "metadata": {},
   "outputs": [
    {
     "data": {
      "text/plain": [
       "10"
      ]
     },
     "execution_count": 34,
     "metadata": {},
     "output_type": "execute_result"
    }
   ],
   "source": [
    "ser['a']"
   ]
  },
  {
   "cell_type": "code",
   "execution_count": 36,
   "id": "cd4d7103-1e78-4230-97a2-c3b855998372",
   "metadata": {},
   "outputs": [
    {
     "data": {
      "text/plain": [
       "a    10\n",
       "b    15\n",
       "c    20\n",
       "dtype: int64"
      ]
     },
     "execution_count": 36,
     "metadata": {},
     "output_type": "execute_result"
    }
   ],
   "source": [
    "ser"
   ]
  },
  {
   "cell_type": "code",
   "execution_count": 38,
   "id": "eb22c14a-584c-4ea6-8f72-95dcb4ee739b",
   "metadata": {},
   "outputs": [],
   "source": [
    "d1= {'a':11,'b':16,'c':21}"
   ]
  },
  {
   "cell_type": "code",
   "execution_count": 40,
   "id": "7d31b3dd-af4f-464a-b533-98c26fcde2be",
   "metadata": {},
   "outputs": [],
   "source": [
    "ser1 = pd.Series(d1)"
   ]
  },
  {
   "cell_type": "code",
   "execution_count": 42,
   "id": "bef396da-90f3-4caa-ba68-8be596ef8141",
   "metadata": {},
   "outputs": [
    {
     "data": {
      "text/plain": [
       "a    10\n",
       "b    15\n",
       "c    20\n",
       "dtype: int64"
      ]
     },
     "execution_count": 42,
     "metadata": {},
     "output_type": "execute_result"
    }
   ],
   "source": [
    "ser"
   ]
  },
  {
   "cell_type": "code",
   "execution_count": 44,
   "id": "5944a730-6c33-4ef8-b39b-5f1e6edd6306",
   "metadata": {},
   "outputs": [
    {
     "data": {
      "text/plain": [
       "a    11\n",
       "b    16\n",
       "c    21\n",
       "dtype: int64"
      ]
     },
     "execution_count": 44,
     "metadata": {},
     "output_type": "execute_result"
    }
   ],
   "source": [
    "ser1"
   ]
  },
  {
   "cell_type": "code",
   "execution_count": 48,
   "id": "5f39c3a9-9864-4116-9e80-8ac44a76900d",
   "metadata": {},
   "outputs": [
    {
     "data": {
      "text/plain": [
       "a    21\n",
       "b    31\n",
       "c    41\n",
       "dtype: int64"
      ]
     },
     "execution_count": 48,
     "metadata": {},
     "output_type": "execute_result"
    }
   ],
   "source": [
    "ser+ser1"
   ]
  },
  {
   "cell_type": "code",
   "execution_count": null,
   "id": "4b8f456f-471d-4385-b0ac-37f705d70033",
   "metadata": {},
   "outputs": [],
   "source": []
  }
 ],
 "metadata": {
  "kernelspec": {
   "display_name": "Python 3 (ipykernel)",
   "language": "python",
   "name": "python3"
  },
  "language_info": {
   "codemirror_mode": {
    "name": "ipython",
    "version": 3
   },
   "file_extension": ".py",
   "mimetype": "text/x-python",
   "name": "python",
   "nbconvert_exporter": "python",
   "pygments_lexer": "ipython3",
   "version": "3.12.7"
  }
 },
 "nbformat": 4,
 "nbformat_minor": 5
}
