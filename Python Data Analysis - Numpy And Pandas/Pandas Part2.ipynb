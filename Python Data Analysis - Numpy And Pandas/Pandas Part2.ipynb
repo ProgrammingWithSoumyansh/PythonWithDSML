{
 "cells": [
  {
   "cell_type": "markdown",
   "id": "1740f1b0-ce22-40c8-90c3-918ead2ca70a",
   "metadata": {},
   "source": [
    "## DataFrames"
   ]
  },
  {
   "cell_type": "code",
   "execution_count": 3,
   "id": "979d3c67-6663-49a6-92a2-7f221d951fde",
   "metadata": {},
   "outputs": [],
   "source": [
    "## Bunch of series objects"
   ]
  },
  {
   "cell_type": "code",
   "execution_count": 5,
   "id": "7a059f30-5707-4a67-b11a-adfc1b6020d2",
   "metadata": {},
   "outputs": [],
   "source": [
    "import numpy as np\n",
    "import pandas as pd"
   ]
  },
  {
   "cell_type": "code",
   "execution_count": 7,
   "id": "21aacc52-c4d5-401f-b276-b4f287c2ea36",
   "metadata": {},
   "outputs": [],
   "source": [
    "from numpy.random import randn"
   ]
  },
  {
   "cell_type": "code",
   "execution_count": 9,
   "id": "3d3e0dbf-5d3e-4152-b2f7-9dece3b600eb",
   "metadata": {},
   "outputs": [],
   "source": [
    "df = pd.DataFrame(randn(5,4),index=['A','B','C','D','E'],columns=['W','X','Y','Z'])  ##index --> Rows"
   ]
  },
  {
   "cell_type": "code",
   "execution_count": 11,
   "id": "8ec88260-98e7-4831-9abe-92522639d3d4",
   "metadata": {},
   "outputs": [
    {
     "data": {
      "text/html": [
       "<div>\n",
       "<style scoped>\n",
       "    .dataframe tbody tr th:only-of-type {\n",
       "        vertical-align: middle;\n",
       "    }\n",
       "\n",
       "    .dataframe tbody tr th {\n",
       "        vertical-align: top;\n",
       "    }\n",
       "\n",
       "    .dataframe thead th {\n",
       "        text-align: right;\n",
       "    }\n",
       "</style>\n",
       "<table border=\"1\" class=\"dataframe\">\n",
       "  <thead>\n",
       "    <tr style=\"text-align: right;\">\n",
       "      <th></th>\n",
       "      <th>W</th>\n",
       "      <th>X</th>\n",
       "      <th>Y</th>\n",
       "      <th>Z</th>\n",
       "    </tr>\n",
       "  </thead>\n",
       "  <tbody>\n",
       "    <tr>\n",
       "      <th>A</th>\n",
       "      <td>-1.025332</td>\n",
       "      <td>0.698729</td>\n",
       "      <td>-1.233614</td>\n",
       "      <td>-1.225015</td>\n",
       "    </tr>\n",
       "    <tr>\n",
       "      <th>B</th>\n",
       "      <td>-0.297306</td>\n",
       "      <td>0.155836</td>\n",
       "      <td>0.876911</td>\n",
       "      <td>-0.665829</td>\n",
       "    </tr>\n",
       "    <tr>\n",
       "      <th>C</th>\n",
       "      <td>0.563733</td>\n",
       "      <td>-1.474903</td>\n",
       "      <td>0.507534</td>\n",
       "      <td>1.362841</td>\n",
       "    </tr>\n",
       "    <tr>\n",
       "      <th>D</th>\n",
       "      <td>0.499538</td>\n",
       "      <td>-1.538249</td>\n",
       "      <td>-0.409523</td>\n",
       "      <td>0.915616</td>\n",
       "    </tr>\n",
       "    <tr>\n",
       "      <th>E</th>\n",
       "      <td>1.340916</td>\n",
       "      <td>0.297593</td>\n",
       "      <td>-0.443420</td>\n",
       "      <td>-0.370344</td>\n",
       "    </tr>\n",
       "  </tbody>\n",
       "</table>\n",
       "</div>"
      ],
      "text/plain": [
       "          W         X         Y         Z\n",
       "A -1.025332  0.698729 -1.233614 -1.225015\n",
       "B -0.297306  0.155836  0.876911 -0.665829\n",
       "C  0.563733 -1.474903  0.507534  1.362841\n",
       "D  0.499538 -1.538249 -0.409523  0.915616\n",
       "E  1.340916  0.297593 -0.443420 -0.370344"
      ]
     },
     "execution_count": 11,
     "metadata": {},
     "output_type": "execute_result"
    }
   ],
   "source": [
    "df"
   ]
  },
  {
   "cell_type": "markdown",
   "id": "f8dc63b2-0ed7-4057-94b7-ca41ade804c5",
   "metadata": {},
   "source": [
    "## Selection And Indexing"
   ]
  },
  {
   "cell_type": "code",
   "execution_count": 16,
   "id": "b44b4f90-ead2-48c3-a9f9-7f2c60bd1759",
   "metadata": {},
   "outputs": [
    {
     "data": {
      "text/plain": [
       "A   -1.025332\n",
       "B   -0.297306\n",
       "C    0.563733\n",
       "D    0.499538\n",
       "E    1.340916\n",
       "Name: W, dtype: float64"
      ]
     },
     "execution_count": 16,
     "metadata": {},
     "output_type": "execute_result"
    }
   ],
   "source": [
    "df['W']"
   ]
  },
  {
   "cell_type": "code",
   "execution_count": 18,
   "id": "d807c0b8-dd7d-4ef2-84e8-07cde8399b4a",
   "metadata": {},
   "outputs": [
    {
     "data": {
      "text/plain": [
       "pandas.core.series.Series"
      ]
     },
     "execution_count": 18,
     "metadata": {},
     "output_type": "execute_result"
    }
   ],
   "source": [
    "type(df['W'])"
   ]
  },
  {
   "cell_type": "code",
   "execution_count": 20,
   "id": "daceacc6-f24a-49f0-be49-89a6909d1b33",
   "metadata": {},
   "outputs": [
    {
     "data": {
      "text/html": [
       "<div>\n",
       "<style scoped>\n",
       "    .dataframe tbody tr th:only-of-type {\n",
       "        vertical-align: middle;\n",
       "    }\n",
       "\n",
       "    .dataframe tbody tr th {\n",
       "        vertical-align: top;\n",
       "    }\n",
       "\n",
       "    .dataframe thead th {\n",
       "        text-align: right;\n",
       "    }\n",
       "</style>\n",
       "<table border=\"1\" class=\"dataframe\">\n",
       "  <thead>\n",
       "    <tr style=\"text-align: right;\">\n",
       "      <th></th>\n",
       "      <th>W</th>\n",
       "      <th>X</th>\n",
       "    </tr>\n",
       "  </thead>\n",
       "  <tbody>\n",
       "    <tr>\n",
       "      <th>A</th>\n",
       "      <td>-1.025332</td>\n",
       "      <td>0.698729</td>\n",
       "    </tr>\n",
       "    <tr>\n",
       "      <th>B</th>\n",
       "      <td>-0.297306</td>\n",
       "      <td>0.155836</td>\n",
       "    </tr>\n",
       "    <tr>\n",
       "      <th>C</th>\n",
       "      <td>0.563733</td>\n",
       "      <td>-1.474903</td>\n",
       "    </tr>\n",
       "    <tr>\n",
       "      <th>D</th>\n",
       "      <td>0.499538</td>\n",
       "      <td>-1.538249</td>\n",
       "    </tr>\n",
       "    <tr>\n",
       "      <th>E</th>\n",
       "      <td>1.340916</td>\n",
       "      <td>0.297593</td>\n",
       "    </tr>\n",
       "  </tbody>\n",
       "</table>\n",
       "</div>"
      ],
      "text/plain": [
       "          W         X\n",
       "A -1.025332  0.698729\n",
       "B -0.297306  0.155836\n",
       "C  0.563733 -1.474903\n",
       "D  0.499538 -1.538249\n",
       "E  1.340916  0.297593"
      ]
     },
     "execution_count": 20,
     "metadata": {},
     "output_type": "execute_result"
    }
   ],
   "source": [
    "df[['W','X']]"
   ]
  },
  {
   "cell_type": "code",
   "execution_count": 22,
   "id": "799517e8-8eca-4869-8d7a-cbbfe55b1c6e",
   "metadata": {},
   "outputs": [
    {
     "data": {
      "text/plain": [
       "A   -1.025332\n",
       "B   -0.297306\n",
       "C    0.563733\n",
       "D    0.499538\n",
       "E    1.340916\n",
       "Name: W, dtype: float64"
      ]
     },
     "execution_count": 22,
     "metadata": {},
     "output_type": "execute_result"
    }
   ],
   "source": [
    "\n",
    "## SQL Syntax (Not recommended)\n",
    "df.W"
   ]
  },
  {
   "cell_type": "code",
   "execution_count": 24,
   "id": "c7d3d732-59b5-46d0-b409-1de2fbee1514",
   "metadata": {},
   "outputs": [
    {
     "data": {
      "text/html": [
       "<div>\n",
       "<style scoped>\n",
       "    .dataframe tbody tr th:only-of-type {\n",
       "        vertical-align: middle;\n",
       "    }\n",
       "\n",
       "    .dataframe tbody tr th {\n",
       "        vertical-align: top;\n",
       "    }\n",
       "\n",
       "    .dataframe thead th {\n",
       "        text-align: right;\n",
       "    }\n",
       "</style>\n",
       "<table border=\"1\" class=\"dataframe\">\n",
       "  <thead>\n",
       "    <tr style=\"text-align: right;\">\n",
       "      <th></th>\n",
       "      <th>W</th>\n",
       "      <th>X</th>\n",
       "      <th>Y</th>\n",
       "      <th>Z</th>\n",
       "    </tr>\n",
       "  </thead>\n",
       "  <tbody>\n",
       "    <tr>\n",
       "      <th>A</th>\n",
       "      <td>-1.025332</td>\n",
       "      <td>0.698729</td>\n",
       "      <td>-1.233614</td>\n",
       "      <td>-1.225015</td>\n",
       "    </tr>\n",
       "    <tr>\n",
       "      <th>B</th>\n",
       "      <td>-0.297306</td>\n",
       "      <td>0.155836</td>\n",
       "      <td>0.876911</td>\n",
       "      <td>-0.665829</td>\n",
       "    </tr>\n",
       "    <tr>\n",
       "      <th>C</th>\n",
       "      <td>0.563733</td>\n",
       "      <td>-1.474903</td>\n",
       "      <td>0.507534</td>\n",
       "      <td>1.362841</td>\n",
       "    </tr>\n",
       "    <tr>\n",
       "      <th>D</th>\n",
       "      <td>0.499538</td>\n",
       "      <td>-1.538249</td>\n",
       "      <td>-0.409523</td>\n",
       "      <td>0.915616</td>\n",
       "    </tr>\n",
       "    <tr>\n",
       "      <th>E</th>\n",
       "      <td>1.340916</td>\n",
       "      <td>0.297593</td>\n",
       "      <td>-0.443420</td>\n",
       "      <td>-0.370344</td>\n",
       "    </tr>\n",
       "  </tbody>\n",
       "</table>\n",
       "</div>"
      ],
      "text/plain": [
       "          W         X         Y         Z\n",
       "A -1.025332  0.698729 -1.233614 -1.225015\n",
       "B -0.297306  0.155836  0.876911 -0.665829\n",
       "C  0.563733 -1.474903  0.507534  1.362841\n",
       "D  0.499538 -1.538249 -0.409523  0.915616\n",
       "E  1.340916  0.297593 -0.443420 -0.370344"
      ]
     },
     "execution_count": 24,
     "metadata": {},
     "output_type": "execute_result"
    }
   ],
   "source": [
    "df"
   ]
  },
  {
   "cell_type": "code",
   "execution_count": 26,
   "id": "9a92ec43-a1c4-4389-8e75-386c0ceffa83",
   "metadata": {},
   "outputs": [],
   "source": [
    "df['NewColumn']=df['W']+df['X']"
   ]
  },
  {
   "cell_type": "code",
   "execution_count": 28,
   "id": "0150c116-e0f7-466b-9c5c-11f656f10172",
   "metadata": {},
   "outputs": [
    {
     "data": {
      "text/html": [
       "<div>\n",
       "<style scoped>\n",
       "    .dataframe tbody tr th:only-of-type {\n",
       "        vertical-align: middle;\n",
       "    }\n",
       "\n",
       "    .dataframe tbody tr th {\n",
       "        vertical-align: top;\n",
       "    }\n",
       "\n",
       "    .dataframe thead th {\n",
       "        text-align: right;\n",
       "    }\n",
       "</style>\n",
       "<table border=\"1\" class=\"dataframe\">\n",
       "  <thead>\n",
       "    <tr style=\"text-align: right;\">\n",
       "      <th></th>\n",
       "      <th>W</th>\n",
       "      <th>X</th>\n",
       "      <th>Y</th>\n",
       "      <th>Z</th>\n",
       "      <th>NewColumn</th>\n",
       "    </tr>\n",
       "  </thead>\n",
       "  <tbody>\n",
       "    <tr>\n",
       "      <th>A</th>\n",
       "      <td>-1.025332</td>\n",
       "      <td>0.698729</td>\n",
       "      <td>-1.233614</td>\n",
       "      <td>-1.225015</td>\n",
       "      <td>-0.326603</td>\n",
       "    </tr>\n",
       "    <tr>\n",
       "      <th>B</th>\n",
       "      <td>-0.297306</td>\n",
       "      <td>0.155836</td>\n",
       "      <td>0.876911</td>\n",
       "      <td>-0.665829</td>\n",
       "      <td>-0.141470</td>\n",
       "    </tr>\n",
       "    <tr>\n",
       "      <th>C</th>\n",
       "      <td>0.563733</td>\n",
       "      <td>-1.474903</td>\n",
       "      <td>0.507534</td>\n",
       "      <td>1.362841</td>\n",
       "      <td>-0.911170</td>\n",
       "    </tr>\n",
       "    <tr>\n",
       "      <th>D</th>\n",
       "      <td>0.499538</td>\n",
       "      <td>-1.538249</td>\n",
       "      <td>-0.409523</td>\n",
       "      <td>0.915616</td>\n",
       "      <td>-1.038712</td>\n",
       "    </tr>\n",
       "    <tr>\n",
       "      <th>E</th>\n",
       "      <td>1.340916</td>\n",
       "      <td>0.297593</td>\n",
       "      <td>-0.443420</td>\n",
       "      <td>-0.370344</td>\n",
       "      <td>1.638508</td>\n",
       "    </tr>\n",
       "  </tbody>\n",
       "</table>\n",
       "</div>"
      ],
      "text/plain": [
       "          W         X         Y         Z  NewColumn\n",
       "A -1.025332  0.698729 -1.233614 -1.225015  -0.326603\n",
       "B -0.297306  0.155836  0.876911 -0.665829  -0.141470\n",
       "C  0.563733 -1.474903  0.507534  1.362841  -0.911170\n",
       "D  0.499538 -1.538249 -0.409523  0.915616  -1.038712\n",
       "E  1.340916  0.297593 -0.443420 -0.370344   1.638508"
      ]
     },
     "execution_count": 28,
     "metadata": {},
     "output_type": "execute_result"
    }
   ],
   "source": [
    "df"
   ]
  },
  {
   "cell_type": "code",
   "execution_count": 30,
   "id": "423ec06a-c544-438d-a0e5-a5a30fa1358b",
   "metadata": {},
   "outputs": [],
   "source": [
    "## Removing columns -- > Columns remove -- axis = 1, rows remove -- axis = 0"
   ]
  },
  {
   "cell_type": "code",
   "execution_count": 32,
   "id": "78527840-4afc-47ec-8efd-f11b7a2cb0f1",
   "metadata": {},
   "outputs": [
    {
     "data": {
      "text/html": [
       "<div>\n",
       "<style scoped>\n",
       "    .dataframe tbody tr th:only-of-type {\n",
       "        vertical-align: middle;\n",
       "    }\n",
       "\n",
       "    .dataframe tbody tr th {\n",
       "        vertical-align: top;\n",
       "    }\n",
       "\n",
       "    .dataframe thead th {\n",
       "        text-align: right;\n",
       "    }\n",
       "</style>\n",
       "<table border=\"1\" class=\"dataframe\">\n",
       "  <thead>\n",
       "    <tr style=\"text-align: right;\">\n",
       "      <th></th>\n",
       "      <th>W</th>\n",
       "      <th>X</th>\n",
       "      <th>Y</th>\n",
       "      <th>Z</th>\n",
       "    </tr>\n",
       "  </thead>\n",
       "  <tbody>\n",
       "    <tr>\n",
       "      <th>A</th>\n",
       "      <td>-1.025332</td>\n",
       "      <td>0.698729</td>\n",
       "      <td>-1.233614</td>\n",
       "      <td>-1.225015</td>\n",
       "    </tr>\n",
       "    <tr>\n",
       "      <th>B</th>\n",
       "      <td>-0.297306</td>\n",
       "      <td>0.155836</td>\n",
       "      <td>0.876911</td>\n",
       "      <td>-0.665829</td>\n",
       "    </tr>\n",
       "    <tr>\n",
       "      <th>C</th>\n",
       "      <td>0.563733</td>\n",
       "      <td>-1.474903</td>\n",
       "      <td>0.507534</td>\n",
       "      <td>1.362841</td>\n",
       "    </tr>\n",
       "    <tr>\n",
       "      <th>D</th>\n",
       "      <td>0.499538</td>\n",
       "      <td>-1.538249</td>\n",
       "      <td>-0.409523</td>\n",
       "      <td>0.915616</td>\n",
       "    </tr>\n",
       "    <tr>\n",
       "      <th>E</th>\n",
       "      <td>1.340916</td>\n",
       "      <td>0.297593</td>\n",
       "      <td>-0.443420</td>\n",
       "      <td>-0.370344</td>\n",
       "    </tr>\n",
       "  </tbody>\n",
       "</table>\n",
       "</div>"
      ],
      "text/plain": [
       "          W         X         Y         Z\n",
       "A -1.025332  0.698729 -1.233614 -1.225015\n",
       "B -0.297306  0.155836  0.876911 -0.665829\n",
       "C  0.563733 -1.474903  0.507534  1.362841\n",
       "D  0.499538 -1.538249 -0.409523  0.915616\n",
       "E  1.340916  0.297593 -0.443420 -0.370344"
      ]
     },
     "execution_count": 32,
     "metadata": {},
     "output_type": "execute_result"
    }
   ],
   "source": [
    "df.drop('NewColumn',axis=1)"
   ]
  },
  {
   "cell_type": "code",
   "execution_count": 34,
   "id": "7dc573c7-475d-4d9d-9131-96e82286644f",
   "metadata": {},
   "outputs": [
    {
     "data": {
      "text/html": [
       "<div>\n",
       "<style scoped>\n",
       "    .dataframe tbody tr th:only-of-type {\n",
       "        vertical-align: middle;\n",
       "    }\n",
       "\n",
       "    .dataframe tbody tr th {\n",
       "        vertical-align: top;\n",
       "    }\n",
       "\n",
       "    .dataframe thead th {\n",
       "        text-align: right;\n",
       "    }\n",
       "</style>\n",
       "<table border=\"1\" class=\"dataframe\">\n",
       "  <thead>\n",
       "    <tr style=\"text-align: right;\">\n",
       "      <th></th>\n",
       "      <th>W</th>\n",
       "      <th>X</th>\n",
       "      <th>Y</th>\n",
       "      <th>Z</th>\n",
       "      <th>NewColumn</th>\n",
       "    </tr>\n",
       "  </thead>\n",
       "  <tbody>\n",
       "    <tr>\n",
       "      <th>A</th>\n",
       "      <td>-1.025332</td>\n",
       "      <td>0.698729</td>\n",
       "      <td>-1.233614</td>\n",
       "      <td>-1.225015</td>\n",
       "      <td>-0.326603</td>\n",
       "    </tr>\n",
       "    <tr>\n",
       "      <th>B</th>\n",
       "      <td>-0.297306</td>\n",
       "      <td>0.155836</td>\n",
       "      <td>0.876911</td>\n",
       "      <td>-0.665829</td>\n",
       "      <td>-0.141470</td>\n",
       "    </tr>\n",
       "    <tr>\n",
       "      <th>C</th>\n",
       "      <td>0.563733</td>\n",
       "      <td>-1.474903</td>\n",
       "      <td>0.507534</td>\n",
       "      <td>1.362841</td>\n",
       "      <td>-0.911170</td>\n",
       "    </tr>\n",
       "    <tr>\n",
       "      <th>D</th>\n",
       "      <td>0.499538</td>\n",
       "      <td>-1.538249</td>\n",
       "      <td>-0.409523</td>\n",
       "      <td>0.915616</td>\n",
       "      <td>-1.038712</td>\n",
       "    </tr>\n",
       "    <tr>\n",
       "      <th>E</th>\n",
       "      <td>1.340916</td>\n",
       "      <td>0.297593</td>\n",
       "      <td>-0.443420</td>\n",
       "      <td>-0.370344</td>\n",
       "      <td>1.638508</td>\n",
       "    </tr>\n",
       "  </tbody>\n",
       "</table>\n",
       "</div>"
      ],
      "text/plain": [
       "          W         X         Y         Z  NewColumn\n",
       "A -1.025332  0.698729 -1.233614 -1.225015  -0.326603\n",
       "B -0.297306  0.155836  0.876911 -0.665829  -0.141470\n",
       "C  0.563733 -1.474903  0.507534  1.362841  -0.911170\n",
       "D  0.499538 -1.538249 -0.409523  0.915616  -1.038712\n",
       "E  1.340916  0.297593 -0.443420 -0.370344   1.638508"
      ]
     },
     "execution_count": 34,
     "metadata": {},
     "output_type": "execute_result"
    }
   ],
   "source": [
    "df"
   ]
  },
  {
   "cell_type": "code",
   "execution_count": 36,
   "id": "a42d3a9b-f29e-44d9-83b9-c84314142f17",
   "metadata": {},
   "outputs": [],
   "source": [
    "df.drop('NewColumn',axis=1,inplace=True)"
   ]
  },
  {
   "cell_type": "code",
   "execution_count": 38,
   "id": "b152e524-20cc-44c5-8700-f578c0e65853",
   "metadata": {},
   "outputs": [
    {
     "data": {
      "text/html": [
       "<div>\n",
       "<style scoped>\n",
       "    .dataframe tbody tr th:only-of-type {\n",
       "        vertical-align: middle;\n",
       "    }\n",
       "\n",
       "    .dataframe tbody tr th {\n",
       "        vertical-align: top;\n",
       "    }\n",
       "\n",
       "    .dataframe thead th {\n",
       "        text-align: right;\n",
       "    }\n",
       "</style>\n",
       "<table border=\"1\" class=\"dataframe\">\n",
       "  <thead>\n",
       "    <tr style=\"text-align: right;\">\n",
       "      <th></th>\n",
       "      <th>W</th>\n",
       "      <th>X</th>\n",
       "      <th>Y</th>\n",
       "      <th>Z</th>\n",
       "    </tr>\n",
       "  </thead>\n",
       "  <tbody>\n",
       "    <tr>\n",
       "      <th>A</th>\n",
       "      <td>-1.025332</td>\n",
       "      <td>0.698729</td>\n",
       "      <td>-1.233614</td>\n",
       "      <td>-1.225015</td>\n",
       "    </tr>\n",
       "    <tr>\n",
       "      <th>B</th>\n",
       "      <td>-0.297306</td>\n",
       "      <td>0.155836</td>\n",
       "      <td>0.876911</td>\n",
       "      <td>-0.665829</td>\n",
       "    </tr>\n",
       "    <tr>\n",
       "      <th>C</th>\n",
       "      <td>0.563733</td>\n",
       "      <td>-1.474903</td>\n",
       "      <td>0.507534</td>\n",
       "      <td>1.362841</td>\n",
       "    </tr>\n",
       "    <tr>\n",
       "      <th>D</th>\n",
       "      <td>0.499538</td>\n",
       "      <td>-1.538249</td>\n",
       "      <td>-0.409523</td>\n",
       "      <td>0.915616</td>\n",
       "    </tr>\n",
       "    <tr>\n",
       "      <th>E</th>\n",
       "      <td>1.340916</td>\n",
       "      <td>0.297593</td>\n",
       "      <td>-0.443420</td>\n",
       "      <td>-0.370344</td>\n",
       "    </tr>\n",
       "  </tbody>\n",
       "</table>\n",
       "</div>"
      ],
      "text/plain": [
       "          W         X         Y         Z\n",
       "A -1.025332  0.698729 -1.233614 -1.225015\n",
       "B -0.297306  0.155836  0.876911 -0.665829\n",
       "C  0.563733 -1.474903  0.507534  1.362841\n",
       "D  0.499538 -1.538249 -0.409523  0.915616\n",
       "E  1.340916  0.297593 -0.443420 -0.370344"
      ]
     },
     "execution_count": 38,
     "metadata": {},
     "output_type": "execute_result"
    }
   ],
   "source": [
    "df"
   ]
  },
  {
   "cell_type": "code",
   "execution_count": 40,
   "id": "2642a2f2-214a-41ff-8b42-d1d23c69fa5b",
   "metadata": {},
   "outputs": [
    {
     "data": {
      "text/html": [
       "<div>\n",
       "<style scoped>\n",
       "    .dataframe tbody tr th:only-of-type {\n",
       "        vertical-align: middle;\n",
       "    }\n",
       "\n",
       "    .dataframe tbody tr th {\n",
       "        vertical-align: top;\n",
       "    }\n",
       "\n",
       "    .dataframe thead th {\n",
       "        text-align: right;\n",
       "    }\n",
       "</style>\n",
       "<table border=\"1\" class=\"dataframe\">\n",
       "  <thead>\n",
       "    <tr style=\"text-align: right;\">\n",
       "      <th></th>\n",
       "      <th>W</th>\n",
       "      <th>X</th>\n",
       "      <th>Y</th>\n",
       "      <th>Z</th>\n",
       "    </tr>\n",
       "  </thead>\n",
       "  <tbody>\n",
       "    <tr>\n",
       "      <th>A</th>\n",
       "      <td>-1.025332</td>\n",
       "      <td>0.698729</td>\n",
       "      <td>-1.233614</td>\n",
       "      <td>-1.225015</td>\n",
       "    </tr>\n",
       "    <tr>\n",
       "      <th>B</th>\n",
       "      <td>-0.297306</td>\n",
       "      <td>0.155836</td>\n",
       "      <td>0.876911</td>\n",
       "      <td>-0.665829</td>\n",
       "    </tr>\n",
       "    <tr>\n",
       "      <th>C</th>\n",
       "      <td>0.563733</td>\n",
       "      <td>-1.474903</td>\n",
       "      <td>0.507534</td>\n",
       "      <td>1.362841</td>\n",
       "    </tr>\n",
       "    <tr>\n",
       "      <th>D</th>\n",
       "      <td>0.499538</td>\n",
       "      <td>-1.538249</td>\n",
       "      <td>-0.409523</td>\n",
       "      <td>0.915616</td>\n",
       "    </tr>\n",
       "  </tbody>\n",
       "</table>\n",
       "</div>"
      ],
      "text/plain": [
       "          W         X         Y         Z\n",
       "A -1.025332  0.698729 -1.233614 -1.225015\n",
       "B -0.297306  0.155836  0.876911 -0.665829\n",
       "C  0.563733 -1.474903  0.507534  1.362841\n",
       "D  0.499538 -1.538249 -0.409523  0.915616"
      ]
     },
     "execution_count": 40,
     "metadata": {},
     "output_type": "execute_result"
    }
   ],
   "source": [
    "df.drop('E',axis = 0)"
   ]
  },
  {
   "cell_type": "code",
   "execution_count": 42,
   "id": "5455f159-5f8e-48e3-9d7b-9beff929e5cd",
   "metadata": {},
   "outputs": [
    {
     "data": {
      "text/html": [
       "<div>\n",
       "<style scoped>\n",
       "    .dataframe tbody tr th:only-of-type {\n",
       "        vertical-align: middle;\n",
       "    }\n",
       "\n",
       "    .dataframe tbody tr th {\n",
       "        vertical-align: top;\n",
       "    }\n",
       "\n",
       "    .dataframe thead th {\n",
       "        text-align: right;\n",
       "    }\n",
       "</style>\n",
       "<table border=\"1\" class=\"dataframe\">\n",
       "  <thead>\n",
       "    <tr style=\"text-align: right;\">\n",
       "      <th></th>\n",
       "      <th>W</th>\n",
       "      <th>X</th>\n",
       "      <th>Y</th>\n",
       "      <th>Z</th>\n",
       "    </tr>\n",
       "  </thead>\n",
       "  <tbody>\n",
       "    <tr>\n",
       "      <th>A</th>\n",
       "      <td>-1.025332</td>\n",
       "      <td>0.698729</td>\n",
       "      <td>-1.233614</td>\n",
       "      <td>-1.225015</td>\n",
       "    </tr>\n",
       "    <tr>\n",
       "      <th>B</th>\n",
       "      <td>-0.297306</td>\n",
       "      <td>0.155836</td>\n",
       "      <td>0.876911</td>\n",
       "      <td>-0.665829</td>\n",
       "    </tr>\n",
       "    <tr>\n",
       "      <th>C</th>\n",
       "      <td>0.563733</td>\n",
       "      <td>-1.474903</td>\n",
       "      <td>0.507534</td>\n",
       "      <td>1.362841</td>\n",
       "    </tr>\n",
       "    <tr>\n",
       "      <th>D</th>\n",
       "      <td>0.499538</td>\n",
       "      <td>-1.538249</td>\n",
       "      <td>-0.409523</td>\n",
       "      <td>0.915616</td>\n",
       "    </tr>\n",
       "    <tr>\n",
       "      <th>E</th>\n",
       "      <td>1.340916</td>\n",
       "      <td>0.297593</td>\n",
       "      <td>-0.443420</td>\n",
       "      <td>-0.370344</td>\n",
       "    </tr>\n",
       "  </tbody>\n",
       "</table>\n",
       "</div>"
      ],
      "text/plain": [
       "          W         X         Y         Z\n",
       "A -1.025332  0.698729 -1.233614 -1.225015\n",
       "B -0.297306  0.155836  0.876911 -0.665829\n",
       "C  0.563733 -1.474903  0.507534  1.362841\n",
       "D  0.499538 -1.538249 -0.409523  0.915616\n",
       "E  1.340916  0.297593 -0.443420 -0.370344"
      ]
     },
     "execution_count": 42,
     "metadata": {},
     "output_type": "execute_result"
    }
   ],
   "source": [
    "df"
   ]
  },
  {
   "cell_type": "code",
   "execution_count": 44,
   "id": "46b17750-60f9-42b0-be49-a1152d7c20b0",
   "metadata": {},
   "outputs": [],
   "source": [
    "df.drop('E',axis = 0,inplace= True)"
   ]
  },
  {
   "cell_type": "code",
   "execution_count": 46,
   "id": "205755a0-45a0-440b-9833-54907152709e",
   "metadata": {},
   "outputs": [
    {
     "data": {
      "text/html": [
       "<div>\n",
       "<style scoped>\n",
       "    .dataframe tbody tr th:only-of-type {\n",
       "        vertical-align: middle;\n",
       "    }\n",
       "\n",
       "    .dataframe tbody tr th {\n",
       "        vertical-align: top;\n",
       "    }\n",
       "\n",
       "    .dataframe thead th {\n",
       "        text-align: right;\n",
       "    }\n",
       "</style>\n",
       "<table border=\"1\" class=\"dataframe\">\n",
       "  <thead>\n",
       "    <tr style=\"text-align: right;\">\n",
       "      <th></th>\n",
       "      <th>W</th>\n",
       "      <th>X</th>\n",
       "      <th>Y</th>\n",
       "      <th>Z</th>\n",
       "    </tr>\n",
       "  </thead>\n",
       "  <tbody>\n",
       "    <tr>\n",
       "      <th>A</th>\n",
       "      <td>-1.025332</td>\n",
       "      <td>0.698729</td>\n",
       "      <td>-1.233614</td>\n",
       "      <td>-1.225015</td>\n",
       "    </tr>\n",
       "    <tr>\n",
       "      <th>B</th>\n",
       "      <td>-0.297306</td>\n",
       "      <td>0.155836</td>\n",
       "      <td>0.876911</td>\n",
       "      <td>-0.665829</td>\n",
       "    </tr>\n",
       "    <tr>\n",
       "      <th>C</th>\n",
       "      <td>0.563733</td>\n",
       "      <td>-1.474903</td>\n",
       "      <td>0.507534</td>\n",
       "      <td>1.362841</td>\n",
       "    </tr>\n",
       "    <tr>\n",
       "      <th>D</th>\n",
       "      <td>0.499538</td>\n",
       "      <td>-1.538249</td>\n",
       "      <td>-0.409523</td>\n",
       "      <td>0.915616</td>\n",
       "    </tr>\n",
       "  </tbody>\n",
       "</table>\n",
       "</div>"
      ],
      "text/plain": [
       "          W         X         Y         Z\n",
       "A -1.025332  0.698729 -1.233614 -1.225015\n",
       "B -0.297306  0.155836  0.876911 -0.665829\n",
       "C  0.563733 -1.474903  0.507534  1.362841\n",
       "D  0.499538 -1.538249 -0.409523  0.915616"
      ]
     },
     "execution_count": 46,
     "metadata": {},
     "output_type": "execute_result"
    }
   ],
   "source": [
    "df"
   ]
  },
  {
   "cell_type": "code",
   "execution_count": 48,
   "id": "8a3d4700-ce07-48d9-addc-5388d1af666b",
   "metadata": {},
   "outputs": [
    {
     "data": {
      "text/plain": [
       "A   -1.025332\n",
       "B   -0.297306\n",
       "C    0.563733\n",
       "D    0.499538\n",
       "Name: W, dtype: float64"
      ]
     },
     "execution_count": 48,
     "metadata": {},
     "output_type": "execute_result"
    }
   ],
   "source": [
    "## Selecting Columns\n",
    "df['W']"
   ]
  },
  {
   "cell_type": "code",
   "execution_count": 50,
   "id": "2293e365-90f7-4ba7-8428-9bfc1d836b93",
   "metadata": {},
   "outputs": [
    {
     "data": {
      "text/plain": [
       "W   -1.025332\n",
       "X    0.698729\n",
       "Y   -1.233614\n",
       "Z   -1.225015\n",
       "Name: A, dtype: float64"
      ]
     },
     "execution_count": 50,
     "metadata": {},
     "output_type": "execute_result"
    }
   ],
   "source": [
    "## Rows selection\n",
    "df.loc['A']"
   ]
  },
  {
   "cell_type": "code",
   "execution_count": 52,
   "id": "ebc169f8-6e1d-47d2-8329-352f2fbf71b6",
   "metadata": {},
   "outputs": [
    {
     "data": {
      "text/plain": [
       "pandas.core.series.Series"
      ]
     },
     "execution_count": 52,
     "metadata": {},
     "output_type": "execute_result"
    }
   ],
   "source": [
    "type(df.loc['A'])"
   ]
  },
  {
   "cell_type": "code",
   "execution_count": 54,
   "id": "ea1c1471-5a10-4905-915d-b12846ee19e2",
   "metadata": {},
   "outputs": [
    {
     "data": {
      "text/plain": [
       "-1.0253324914822057"
      ]
     },
     "execution_count": 54,
     "metadata": {},
     "output_type": "execute_result"
    }
   ],
   "source": [
    "## Specific value based on rows and column headers\n",
    "df.loc['A','W']"
   ]
  },
  {
   "cell_type": "code",
   "execution_count": 56,
   "id": "52a0acbc-1499-492c-8370-76ec792c9d76",
   "metadata": {},
   "outputs": [
    {
     "data": {
      "text/plain": [
       "1.3628408154439078"
      ]
     },
     "execution_count": 56,
     "metadata": {},
     "output_type": "execute_result"
    }
   ],
   "source": [
    "## Specific value based on rows and column indexes\n",
    "df.iloc[2,3] # index always starts from zero for both columns and rows"
   ]
  },
  {
   "cell_type": "code",
   "execution_count": 58,
   "id": "492ad2ae-7887-4b6d-840b-640c4e8c589e",
   "metadata": {},
   "outputs": [],
   "source": [
    "# df.iloc[rowIndex,columnIndex]"
   ]
  },
  {
   "cell_type": "markdown",
   "id": "0a01802e-8742-4b44-a46d-d971b627fad0",
   "metadata": {},
   "source": [
    "## Conditional Selection"
   ]
  },
  {
   "cell_type": "code",
   "execution_count": 61,
   "id": "ac6ce754-8914-4d7c-838a-dfa8c133545a",
   "metadata": {},
   "outputs": [
    {
     "data": {
      "text/html": [
       "<div>\n",
       "<style scoped>\n",
       "    .dataframe tbody tr th:only-of-type {\n",
       "        vertical-align: middle;\n",
       "    }\n",
       "\n",
       "    .dataframe tbody tr th {\n",
       "        vertical-align: top;\n",
       "    }\n",
       "\n",
       "    .dataframe thead th {\n",
       "        text-align: right;\n",
       "    }\n",
       "</style>\n",
       "<table border=\"1\" class=\"dataframe\">\n",
       "  <thead>\n",
       "    <tr style=\"text-align: right;\">\n",
       "      <th></th>\n",
       "      <th>W</th>\n",
       "      <th>X</th>\n",
       "      <th>Y</th>\n",
       "      <th>Z</th>\n",
       "    </tr>\n",
       "  </thead>\n",
       "  <tbody>\n",
       "    <tr>\n",
       "      <th>A</th>\n",
       "      <td>-1.025332</td>\n",
       "      <td>0.698729</td>\n",
       "      <td>-1.233614</td>\n",
       "      <td>-1.225015</td>\n",
       "    </tr>\n",
       "    <tr>\n",
       "      <th>B</th>\n",
       "      <td>-0.297306</td>\n",
       "      <td>0.155836</td>\n",
       "      <td>0.876911</td>\n",
       "      <td>-0.665829</td>\n",
       "    </tr>\n",
       "    <tr>\n",
       "      <th>C</th>\n",
       "      <td>0.563733</td>\n",
       "      <td>-1.474903</td>\n",
       "      <td>0.507534</td>\n",
       "      <td>1.362841</td>\n",
       "    </tr>\n",
       "    <tr>\n",
       "      <th>D</th>\n",
       "      <td>0.499538</td>\n",
       "      <td>-1.538249</td>\n",
       "      <td>-0.409523</td>\n",
       "      <td>0.915616</td>\n",
       "    </tr>\n",
       "  </tbody>\n",
       "</table>\n",
       "</div>"
      ],
      "text/plain": [
       "          W         X         Y         Z\n",
       "A -1.025332  0.698729 -1.233614 -1.225015\n",
       "B -0.297306  0.155836  0.876911 -0.665829\n",
       "C  0.563733 -1.474903  0.507534  1.362841\n",
       "D  0.499538 -1.538249 -0.409523  0.915616"
      ]
     },
     "execution_count": 61,
     "metadata": {},
     "output_type": "execute_result"
    }
   ],
   "source": [
    "df"
   ]
  },
  {
   "cell_type": "code",
   "execution_count": 63,
   "id": "84da44a9-4ed5-475e-8fb4-cba3a1a7fb04",
   "metadata": {},
   "outputs": [
    {
     "data": {
      "text/html": [
       "<div>\n",
       "<style scoped>\n",
       "    .dataframe tbody tr th:only-of-type {\n",
       "        vertical-align: middle;\n",
       "    }\n",
       "\n",
       "    .dataframe tbody tr th {\n",
       "        vertical-align: top;\n",
       "    }\n",
       "\n",
       "    .dataframe thead th {\n",
       "        text-align: right;\n",
       "    }\n",
       "</style>\n",
       "<table border=\"1\" class=\"dataframe\">\n",
       "  <thead>\n",
       "    <tr style=\"text-align: right;\">\n",
       "      <th></th>\n",
       "      <th>W</th>\n",
       "      <th>X</th>\n",
       "      <th>Y</th>\n",
       "      <th>Z</th>\n",
       "    </tr>\n",
       "  </thead>\n",
       "  <tbody>\n",
       "    <tr>\n",
       "      <th>A</th>\n",
       "      <td>False</td>\n",
       "      <td>True</td>\n",
       "      <td>False</td>\n",
       "      <td>False</td>\n",
       "    </tr>\n",
       "    <tr>\n",
       "      <th>B</th>\n",
       "      <td>False</td>\n",
       "      <td>True</td>\n",
       "      <td>True</td>\n",
       "      <td>False</td>\n",
       "    </tr>\n",
       "    <tr>\n",
       "      <th>C</th>\n",
       "      <td>True</td>\n",
       "      <td>False</td>\n",
       "      <td>True</td>\n",
       "      <td>True</td>\n",
       "    </tr>\n",
       "    <tr>\n",
       "      <th>D</th>\n",
       "      <td>True</td>\n",
       "      <td>False</td>\n",
       "      <td>False</td>\n",
       "      <td>True</td>\n",
       "    </tr>\n",
       "  </tbody>\n",
       "</table>\n",
       "</div>"
      ],
      "text/plain": [
       "       W      X      Y      Z\n",
       "A  False   True  False  False\n",
       "B  False   True   True  False\n",
       "C   True  False   True   True\n",
       "D   True  False  False   True"
      ]
     },
     "execution_count": 63,
     "metadata": {},
     "output_type": "execute_result"
    }
   ],
   "source": [
    "df>0"
   ]
  },
  {
   "cell_type": "code",
   "execution_count": 65,
   "id": "5eb7d00f-1c40-4396-9626-70627d4787e8",
   "metadata": {},
   "outputs": [
    {
     "data": {
      "text/html": [
       "<div>\n",
       "<style scoped>\n",
       "    .dataframe tbody tr th:only-of-type {\n",
       "        vertical-align: middle;\n",
       "    }\n",
       "\n",
       "    .dataframe tbody tr th {\n",
       "        vertical-align: top;\n",
       "    }\n",
       "\n",
       "    .dataframe thead th {\n",
       "        text-align: right;\n",
       "    }\n",
       "</style>\n",
       "<table border=\"1\" class=\"dataframe\">\n",
       "  <thead>\n",
       "    <tr style=\"text-align: right;\">\n",
       "      <th></th>\n",
       "      <th>W</th>\n",
       "      <th>X</th>\n",
       "      <th>Y</th>\n",
       "      <th>Z</th>\n",
       "    </tr>\n",
       "  </thead>\n",
       "  <tbody>\n",
       "    <tr>\n",
       "      <th>A</th>\n",
       "      <td>NaN</td>\n",
       "      <td>0.698729</td>\n",
       "      <td>NaN</td>\n",
       "      <td>NaN</td>\n",
       "    </tr>\n",
       "    <tr>\n",
       "      <th>B</th>\n",
       "      <td>NaN</td>\n",
       "      <td>0.155836</td>\n",
       "      <td>0.876911</td>\n",
       "      <td>NaN</td>\n",
       "    </tr>\n",
       "    <tr>\n",
       "      <th>C</th>\n",
       "      <td>0.563733</td>\n",
       "      <td>NaN</td>\n",
       "      <td>0.507534</td>\n",
       "      <td>1.362841</td>\n",
       "    </tr>\n",
       "    <tr>\n",
       "      <th>D</th>\n",
       "      <td>0.499538</td>\n",
       "      <td>NaN</td>\n",
       "      <td>NaN</td>\n",
       "      <td>0.915616</td>\n",
       "    </tr>\n",
       "  </tbody>\n",
       "</table>\n",
       "</div>"
      ],
      "text/plain": [
       "          W         X         Y         Z\n",
       "A       NaN  0.698729       NaN       NaN\n",
       "B       NaN  0.155836  0.876911       NaN\n",
       "C  0.563733       NaN  0.507534  1.362841\n",
       "D  0.499538       NaN       NaN  0.915616"
      ]
     },
     "execution_count": 65,
     "metadata": {},
     "output_type": "execute_result"
    }
   ],
   "source": [
    "df[df>0]"
   ]
  },
  {
   "cell_type": "code",
   "execution_count": 67,
   "id": "0dc45db4-c4b9-4362-ab52-b93386ff94b8",
   "metadata": {},
   "outputs": [
    {
     "data": {
      "text/html": [
       "<div>\n",
       "<style scoped>\n",
       "    .dataframe tbody tr th:only-of-type {\n",
       "        vertical-align: middle;\n",
       "    }\n",
       "\n",
       "    .dataframe tbody tr th {\n",
       "        vertical-align: top;\n",
       "    }\n",
       "\n",
       "    .dataframe thead th {\n",
       "        text-align: right;\n",
       "    }\n",
       "</style>\n",
       "<table border=\"1\" class=\"dataframe\">\n",
       "  <thead>\n",
       "    <tr style=\"text-align: right;\">\n",
       "      <th></th>\n",
       "      <th>W</th>\n",
       "      <th>X</th>\n",
       "      <th>Y</th>\n",
       "      <th>Z</th>\n",
       "    </tr>\n",
       "  </thead>\n",
       "  <tbody>\n",
       "    <tr>\n",
       "      <th>C</th>\n",
       "      <td>0.563733</td>\n",
       "      <td>-1.474903</td>\n",
       "      <td>0.507534</td>\n",
       "      <td>1.362841</td>\n",
       "    </tr>\n",
       "    <tr>\n",
       "      <th>D</th>\n",
       "      <td>0.499538</td>\n",
       "      <td>-1.538249</td>\n",
       "      <td>-0.409523</td>\n",
       "      <td>0.915616</td>\n",
       "    </tr>\n",
       "  </tbody>\n",
       "</table>\n",
       "</div>"
      ],
      "text/plain": [
       "          W         X         Y         Z\n",
       "C  0.563733 -1.474903  0.507534  1.362841\n",
       "D  0.499538 -1.538249 -0.409523  0.915616"
      ]
     },
     "execution_count": 67,
     "metadata": {},
     "output_type": "execute_result"
    }
   ],
   "source": [
    "df[df['W']>0]"
   ]
  },
  {
   "cell_type": "code",
   "execution_count": 69,
   "id": "cd05d3aa-4395-4709-a1e2-d68666071f27",
   "metadata": {},
   "outputs": [
    {
     "data": {
      "text/html": [
       "<div>\n",
       "<style scoped>\n",
       "    .dataframe tbody tr th:only-of-type {\n",
       "        vertical-align: middle;\n",
       "    }\n",
       "\n",
       "    .dataframe tbody tr th {\n",
       "        vertical-align: top;\n",
       "    }\n",
       "\n",
       "    .dataframe thead th {\n",
       "        text-align: right;\n",
       "    }\n",
       "</style>\n",
       "<table border=\"1\" class=\"dataframe\">\n",
       "  <thead>\n",
       "    <tr style=\"text-align: right;\">\n",
       "      <th></th>\n",
       "      <th>W</th>\n",
       "      <th>X</th>\n",
       "      <th>Y</th>\n",
       "      <th>Z</th>\n",
       "    </tr>\n",
       "  </thead>\n",
       "  <tbody>\n",
       "    <tr>\n",
       "      <th>A</th>\n",
       "      <td>-1.025332</td>\n",
       "      <td>0.698729</td>\n",
       "      <td>-1.233614</td>\n",
       "      <td>-1.225015</td>\n",
       "    </tr>\n",
       "    <tr>\n",
       "      <th>B</th>\n",
       "      <td>-0.297306</td>\n",
       "      <td>0.155836</td>\n",
       "      <td>0.876911</td>\n",
       "      <td>-0.665829</td>\n",
       "    </tr>\n",
       "    <tr>\n",
       "      <th>C</th>\n",
       "      <td>0.563733</td>\n",
       "      <td>-1.474903</td>\n",
       "      <td>0.507534</td>\n",
       "      <td>1.362841</td>\n",
       "    </tr>\n",
       "    <tr>\n",
       "      <th>D</th>\n",
       "      <td>0.499538</td>\n",
       "      <td>-1.538249</td>\n",
       "      <td>-0.409523</td>\n",
       "      <td>0.915616</td>\n",
       "    </tr>\n",
       "  </tbody>\n",
       "</table>\n",
       "</div>"
      ],
      "text/plain": [
       "          W         X         Y         Z\n",
       "A -1.025332  0.698729 -1.233614 -1.225015\n",
       "B -0.297306  0.155836  0.876911 -0.665829\n",
       "C  0.563733 -1.474903  0.507534  1.362841\n",
       "D  0.499538 -1.538249 -0.409523  0.915616"
      ]
     },
     "execution_count": 69,
     "metadata": {},
     "output_type": "execute_result"
    }
   ],
   "source": [
    "df"
   ]
  },
  {
   "cell_type": "code",
   "execution_count": 75,
   "id": "6212252d-2e4e-4d3d-a3fb-8a6e4c3fdde4",
   "metadata": {},
   "outputs": [
    {
     "data": {
      "text/html": [
       "<div>\n",
       "<style scoped>\n",
       "    .dataframe tbody tr th:only-of-type {\n",
       "        vertical-align: middle;\n",
       "    }\n",
       "\n",
       "    .dataframe tbody tr th {\n",
       "        vertical-align: top;\n",
       "    }\n",
       "\n",
       "    .dataframe thead th {\n",
       "        text-align: right;\n",
       "    }\n",
       "</style>\n",
       "<table border=\"1\" class=\"dataframe\">\n",
       "  <thead>\n",
       "    <tr style=\"text-align: right;\">\n",
       "      <th></th>\n",
       "      <th>W</th>\n",
       "      <th>X</th>\n",
       "      <th>Y</th>\n",
       "      <th>Z</th>\n",
       "    </tr>\n",
       "  </thead>\n",
       "  <tbody>\n",
       "    <tr>\n",
       "      <th>D</th>\n",
       "      <td>0.499538</td>\n",
       "      <td>-1.538249</td>\n",
       "      <td>-0.409523</td>\n",
       "      <td>0.915616</td>\n",
       "    </tr>\n",
       "  </tbody>\n",
       "</table>\n",
       "</div>"
      ],
      "text/plain": [
       "          W         X         Y         Z\n",
       "D  0.499538 -1.538249 -0.409523  0.915616"
      ]
     },
     "execution_count": 75,
     "metadata": {},
     "output_type": "execute_result"
    }
   ],
   "source": [
    "df[(df['W']>0) & (df['Y']<0)]"
   ]
  },
  {
   "cell_type": "code",
   "execution_count": null,
   "id": "e3e095b5-363c-47ce-8770-5c03eb3dedea",
   "metadata": {},
   "outputs": [],
   "source": []
  }
 ],
 "metadata": {
  "kernelspec": {
   "display_name": "Python 3 (ipykernel)",
   "language": "python",
   "name": "python3"
  },
  "language_info": {
   "codemirror_mode": {
    "name": "ipython",
    "version": 3
   },
   "file_extension": ".py",
   "mimetype": "text/x-python",
   "name": "python",
   "nbconvert_exporter": "python",
   "pygments_lexer": "ipython3",
   "version": "3.12.7"
  }
 },
 "nbformat": 4,
 "nbformat_minor": 5
}
