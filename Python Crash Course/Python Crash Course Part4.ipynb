{
 "cells": [
  {
   "cell_type": "markdown",
   "id": "451d6da4-41d7-47b7-8745-a73155838128",
   "metadata": {},
   "source": [
    "## Map And Filter"
   ]
  },
  {
   "cell_type": "code",
   "execution_count": 3,
   "id": "4bf70600-c790-489c-89e4-67ec1c3ce6d7",
   "metadata": {},
   "outputs": [
    {
     "data": {
      "text/plain": [
       "<function __main__.<lambda>(var)>"
      ]
     },
     "execution_count": 3,
     "metadata": {},
     "output_type": "execute_result"
    }
   ],
   "source": [
    "lambda var:var*2"
   ]
  },
  {
   "cell_type": "code",
   "execution_count": 5,
   "id": "997571f6-4bf8-4c0a-ab27-2e2f106a0c36",
   "metadata": {},
   "outputs": [
    {
     "data": {
      "text/plain": [
       "<map at 0x25ff181f070>"
      ]
     },
     "execution_count": 5,
     "metadata": {},
     "output_type": "execute_result"
    }
   ],
   "source": [
    "seq = [1,2,3,4,5]\n",
    "\n",
    "map(lambda var:var*2,seq)"
   ]
  },
  {
   "cell_type": "code",
   "execution_count": 7,
   "id": "a54acb8b-e22d-4282-9b83-08adc32e9f57",
   "metadata": {},
   "outputs": [
    {
     "data": {
      "text/plain": [
       "[2, 4, 6, 8, 10]"
      ]
     },
     "execution_count": 7,
     "metadata": {},
     "output_type": "execute_result"
    }
   ],
   "source": [
    "list(map(lambda var:var*2,seq))"
   ]
  },
  {
   "cell_type": "markdown",
   "id": "a41de330-0732-432e-973c-52ace9ae3c1b",
   "metadata": {},
   "source": [
    "## Filter"
   ]
  },
  {
   "cell_type": "code",
   "execution_count": 10,
   "id": "ed724df7-c8cb-49b6-aeed-9d8510efdda1",
   "metadata": {},
   "outputs": [
    {
     "data": {
      "text/plain": [
       "<function __main__.<lambda>(var)>"
      ]
     },
     "execution_count": 10,
     "metadata": {},
     "output_type": "execute_result"
    }
   ],
   "source": [
    "lambda var:var%2==0"
   ]
  },
  {
   "cell_type": "code",
   "execution_count": 12,
   "id": "24c95510-7ec0-4655-9c1b-e6bd290b923a",
   "metadata": {},
   "outputs": [],
   "source": [
    "seq = [1,2,3,4,5]"
   ]
  },
  {
   "cell_type": "code",
   "execution_count": 16,
   "id": "92440f6c-5697-4d5b-aa61-061e2d248c2b",
   "metadata": {},
   "outputs": [
    {
     "data": {
      "text/plain": [
       "<filter at 0x25ff2fffdf0>"
      ]
     },
     "execution_count": 16,
     "metadata": {},
     "output_type": "execute_result"
    }
   ],
   "source": [
    "filter(lambda var:var%2==0,seq)"
   ]
  },
  {
   "cell_type": "code",
   "execution_count": 18,
   "id": "03f95d56-776c-4220-a372-e036bd430480",
   "metadata": {},
   "outputs": [
    {
     "data": {
      "text/plain": [
       "[2, 4]"
      ]
     },
     "execution_count": 18,
     "metadata": {},
     "output_type": "execute_result"
    }
   ],
   "source": [
    "list(filter(lambda var:var%2==0,seq))"
   ]
  },
  {
   "cell_type": "markdown",
   "id": "5dfc4b70-2ac6-4ec5-8d77-7f1eda9a1744",
   "metadata": {},
   "source": [
    "## Basic String Functions"
   ]
  },
  {
   "cell_type": "code",
   "execution_count": 21,
   "id": "b019ab27-08f1-4fbc-b20a-e8da53994063",
   "metadata": {},
   "outputs": [],
   "source": [
    "s = 'Hello World'"
   ]
  },
  {
   "cell_type": "code",
   "execution_count": 23,
   "id": "c133ec84-3bd0-4210-818d-b741344be1ab",
   "metadata": {},
   "outputs": [
    {
     "data": {
      "text/plain": [
       "'hello world'"
      ]
     },
     "execution_count": 23,
     "metadata": {},
     "output_type": "execute_result"
    }
   ],
   "source": [
    "s.lower()"
   ]
  },
  {
   "cell_type": "code",
   "execution_count": 25,
   "id": "4e087994-d9c8-4e34-a2ae-8bb59cb19a6f",
   "metadata": {},
   "outputs": [
    {
     "data": {
      "text/plain": [
       "'HELLO WORLD'"
      ]
     },
     "execution_count": 25,
     "metadata": {},
     "output_type": "execute_result"
    }
   ],
   "source": [
    "s.upper()"
   ]
  },
  {
   "cell_type": "code",
   "execution_count": 29,
   "id": "ba68099f-2984-4e00-b8a3-de5050c1af7f",
   "metadata": {},
   "outputs": [
    {
     "data": {
      "text/plain": [
       "['Hello', 'my name is Soumyansh']"
      ]
     },
     "execution_count": 29,
     "metadata": {},
     "output_type": "execute_result"
    }
   ],
   "source": [
    "s = 'Hello#my name is Soumyansh'\n",
    "s.split(\"#\")"
   ]
  },
  {
   "cell_type": "markdown",
   "id": "d5d6c465-d05f-488f-8534-03491acfdc4e",
   "metadata": {},
   "source": [
    "## In Clause"
   ]
  },
  {
   "cell_type": "code",
   "execution_count": 32,
   "id": "648580ab-b381-4c54-a7ea-f347e8f24cad",
   "metadata": {},
   "outputs": [
    {
     "data": {
      "text/plain": [
       "False"
      ]
     },
     "execution_count": 32,
     "metadata": {},
     "output_type": "execute_result"
    }
   ],
   "source": [
    "'x' in [1,2,3]"
   ]
  },
  {
   "cell_type": "code",
   "execution_count": 34,
   "id": "a41fa7cb-d254-475a-aea7-de9fc3701486",
   "metadata": {},
   "outputs": [
    {
     "data": {
      "text/plain": [
       "True"
      ]
     },
     "execution_count": 34,
     "metadata": {},
     "output_type": "execute_result"
    }
   ],
   "source": [
    "'x' in ['x','y','z']"
   ]
  },
  {
   "cell_type": "code",
   "execution_count": 36,
   "id": "54f6a1c6-053a-429e-a363-f4e001b1bf7d",
   "metadata": {},
   "outputs": [
    {
     "data": {
      "text/plain": [
       "[1, 2, 3, 4, 5]"
      ]
     },
     "execution_count": 36,
     "metadata": {},
     "output_type": "execute_result"
    }
   ],
   "source": [
    "seq"
   ]
  },
  {
   "cell_type": "code",
   "execution_count": 38,
   "id": "b22821ab-5400-4a59-8eac-90e511b89791",
   "metadata": {},
   "outputs": [
    {
     "data": {
      "text/plain": [
       "True"
      ]
     },
     "execution_count": 38,
     "metadata": {},
     "output_type": "execute_result"
    }
   ],
   "source": [
    "1 in seq"
   ]
  },
  {
   "cell_type": "code",
   "execution_count": 40,
   "id": "bf431649-8b09-4b4b-9eb2-51b32b4e2327",
   "metadata": {},
   "outputs": [
    {
     "name": "stdout",
     "output_type": "stream",
     "text": [
      "1\n",
      "2\n",
      "3\n",
      "4\n",
      "5\n"
     ]
    }
   ],
   "source": [
    "for i in seq:\n",
    "    print(i)"
   ]
  },
  {
   "cell_type": "code",
   "execution_count": 42,
   "id": "11e2fe44-80c1-4b32-998a-309e8d6cd598",
   "metadata": {},
   "outputs": [
    {
     "name": "stdout",
     "output_type": "stream",
     "text": [
      "2\n",
      "4\n"
     ]
    }
   ],
   "source": [
    "for i in seq:\n",
    "    if(i%2==0):\n",
    "        print(i)"
   ]
  },
  {
   "cell_type": "code",
   "execution_count": null,
   "id": "d8ce8ca8-3d2c-4222-910b-285e98598f87",
   "metadata": {},
   "outputs": [],
   "source": []
  }
 ],
 "metadata": {
  "kernelspec": {
   "display_name": "Python 3 (ipykernel)",
   "language": "python",
   "name": "python3"
  },
  "language_info": {
   "codemirror_mode": {
    "name": "ipython",
    "version": 3
   },
   "file_extension": ".py",
   "mimetype": "text/x-python",
   "name": "python",
   "nbconvert_exporter": "python",
   "pygments_lexer": "ipython3",
   "version": "3.12.7"
  }
 },
 "nbformat": 4,
 "nbformat_minor": 5
}
