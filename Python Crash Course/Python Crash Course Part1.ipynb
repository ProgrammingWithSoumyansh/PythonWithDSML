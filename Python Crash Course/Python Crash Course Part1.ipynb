{
 "cells": [
  {
   "cell_type": "markdown",
   "id": "281ed2f3-d2c8-4b24-ba99-4dc9fe215a6d",
   "metadata": {},
   "source": [
    "## Data Types\n",
    " Numbers\n",
    " String\n",
    " Printing"
   ]
  },
  {
   "cell_type": "code",
   "execution_count": 3,
   "id": "a1cd91c7-6d83-49e9-9e04-21067e3dd3ce",
   "metadata": {},
   "outputs": [
    {
     "data": {
      "text/plain": [
       "2"
      ]
     },
     "execution_count": 3,
     "metadata": {},
     "output_type": "execute_result"
    }
   ],
   "source": [
    "1+1"
   ]
  },
  {
   "cell_type": "code",
   "execution_count": 5,
   "id": "52dac472-b3fb-4fe9-92bf-68750b3ef203",
   "metadata": {},
   "outputs": [
    {
     "data": {
      "text/plain": [
       "3"
      ]
     },
     "execution_count": 5,
     "metadata": {},
     "output_type": "execute_result"
    }
   ],
   "source": [
    "1*3"
   ]
  },
  {
   "cell_type": "code",
   "execution_count": 7,
   "id": "367a0154-0744-4801-8938-fa780eb47a35",
   "metadata": {},
   "outputs": [
    {
     "data": {
      "text/plain": [
       "0.5"
      ]
     },
     "execution_count": 7,
     "metadata": {},
     "output_type": "execute_result"
    }
   ],
   "source": [
    "1/2"
   ]
  },
  {
   "cell_type": "code",
   "execution_count": 9,
   "id": "d1563d6f-8823-4539-9669-f578af785012",
   "metadata": {},
   "outputs": [
    {
     "data": {
      "text/plain": [
       "16"
      ]
     },
     "execution_count": 9,
     "metadata": {},
     "output_type": "execute_result"
    }
   ],
   "source": [
    "2**4"
   ]
  },
  {
   "cell_type": "code",
   "execution_count": 11,
   "id": "92c3750c-64c3-4652-b38e-81ca94d6232f",
   "metadata": {},
   "outputs": [
    {
     "data": {
      "text/plain": [
       "0"
      ]
     },
     "execution_count": 11,
     "metadata": {},
     "output_type": "execute_result"
    }
   ],
   "source": [
    "## Modulus -- Remainder\n",
    "\n",
    "4%2"
   ]
  },
  {
   "cell_type": "code",
   "execution_count": 13,
   "id": "0a75f89e-7f59-41d3-9554-c694d15c46e2",
   "metadata": {},
   "outputs": [
    {
     "data": {
      "text/plain": [
       "1"
      ]
     },
     "execution_count": 13,
     "metadata": {},
     "output_type": "execute_result"
    }
   ],
   "source": [
    "5%2"
   ]
  },
  {
   "cell_type": "code",
   "execution_count": 15,
   "id": "7d42945a-530b-4c28-a4bd-cec3569cf23e",
   "metadata": {},
   "outputs": [
    {
     "data": {
      "text/plain": [
       "22"
      ]
     },
     "execution_count": 15,
     "metadata": {},
     "output_type": "execute_result"
    }
   ],
   "source": [
    "2+3*5+5 #BODMAS"
   ]
  },
  {
   "cell_type": "code",
   "execution_count": 19,
   "id": "f0f691b7-b0e0-426b-99bf-9952d1876149",
   "metadata": {},
   "outputs": [
    {
     "data": {
      "text/plain": [
       "50"
      ]
     },
     "execution_count": 19,
     "metadata": {},
     "output_type": "execute_result"
    }
   ],
   "source": [
    "(2+3)*(5+5)"
   ]
  },
  {
   "cell_type": "markdown",
   "id": "2e25d189-3ffc-4e3a-aa34-184dd5c56e66",
   "metadata": {},
   "source": [
    "## Variable Assignment"
   ]
  },
  {
   "cell_type": "code",
   "execution_count": 22,
   "id": "d2ecf996-311c-47e6-8116-ccec9c274ee3",
   "metadata": {},
   "outputs": [
    {
     "name": "stdout",
     "output_type": "stream",
     "text": [
      "2\n"
     ]
    }
   ],
   "source": [
    "## Can not start with number or any special character\n",
    "\n",
    "var = 2\n",
    "print(var)"
   ]
  },
  {
   "cell_type": "code",
   "execution_count": 24,
   "id": "24eeb16b-b95d-4a3a-ab84-5bc7c44cf0d6",
   "metadata": {},
   "outputs": [
    {
     "ename": "SyntaxError",
     "evalue": "invalid decimal literal (2655541273.py, line 1)",
     "output_type": "error",
     "traceback": [
      "\u001b[1;36m  Cell \u001b[1;32mIn[24], line 1\u001b[1;36m\u001b[0m\n\u001b[1;33m    2var=5\u001b[0m\n\u001b[1;37m    ^\u001b[0m\n\u001b[1;31mSyntaxError\u001b[0m\u001b[1;31m:\u001b[0m invalid decimal literal\n"
     ]
    }
   ],
   "source": [
    "2var=5"
   ]
  },
  {
   "cell_type": "code",
   "execution_count": 26,
   "id": "6d4df529-9eaa-47ce-9ce5-9adbcfc7e80f",
   "metadata": {},
   "outputs": [
    {
     "name": "stdout",
     "output_type": "stream",
     "text": [
      "5\n"
     ]
    }
   ],
   "source": [
    "x = 2\n",
    "y = 3\n",
    "z = x+y\n",
    "\n",
    "print(z)"
   ]
  },
  {
   "cell_type": "markdown",
   "id": "b5c3bdb8-27b8-489e-83c5-a3dd70aeffcc",
   "metadata": {},
   "source": [
    "## Strings In Python"
   ]
  },
  {
   "cell_type": "code",
   "execution_count": 29,
   "id": "91b6c60b-e79b-49ec-a6ef-81276f34392d",
   "metadata": {},
   "outputs": [
    {
     "data": {
      "text/plain": [
       "'single quotes'"
      ]
     },
     "execution_count": 29,
     "metadata": {},
     "output_type": "execute_result"
    }
   ],
   "source": [
    "'single quotes'"
   ]
  },
  {
   "cell_type": "code",
   "execution_count": 31,
   "id": "8a71880a-4364-4d99-b3e1-637c96ed5405",
   "metadata": {},
   "outputs": [
    {
     "data": {
      "text/plain": [
       "'double quotes'"
      ]
     },
     "execution_count": 31,
     "metadata": {},
     "output_type": "execute_result"
    }
   ],
   "source": [
    "\"double quotes\"\n"
   ]
  },
  {
   "cell_type": "code",
   "execution_count": 33,
   "id": "734ed31d-011b-4bca-9e5d-3c289e6c83b9",
   "metadata": {},
   "outputs": [
    {
     "data": {
      "text/plain": [
       "\"single quote's inside double quote's\""
      ]
     },
     "execution_count": 33,
     "metadata": {},
     "output_type": "execute_result"
    }
   ],
   "source": [
    "\"single quote's inside double quote's\""
   ]
  },
  {
   "cell_type": "code",
   "execution_count": 35,
   "id": "bcb3346c-8688-4e56-92c7-96dd6b932c2c",
   "metadata": {},
   "outputs": [],
   "source": [
    "s = \"Hello\""
   ]
  },
  {
   "cell_type": "code",
   "execution_count": 37,
   "id": "cc4b2577-849a-41b8-8977-3350160eb272",
   "metadata": {},
   "outputs": [
    {
     "name": "stdout",
     "output_type": "stream",
     "text": [
      "Hello\n"
     ]
    }
   ],
   "source": [
    "print(s)"
   ]
  },
  {
   "cell_type": "code",
   "execution_count": 39,
   "id": "519efb9b-43d6-4179-8060-2f1100058c03",
   "metadata": {},
   "outputs": [
    {
     "name": "stdout",
     "output_type": "stream",
     "text": [
      "<class 'str'>\n"
     ]
    }
   ],
   "source": [
    "print(type(s))"
   ]
  },
  {
   "cell_type": "code",
   "execution_count": 41,
   "id": "81d9b812-03c6-4b99-a5e0-085830eb4a4b",
   "metadata": {},
   "outputs": [],
   "source": [
    "x = 22"
   ]
  },
  {
   "cell_type": "code",
   "execution_count": 43,
   "id": "2bba1421-edb7-4161-a694-26d0a0d4f1d6",
   "metadata": {},
   "outputs": [
    {
     "name": "stdout",
     "output_type": "stream",
     "text": [
      "<class 'int'>\n"
     ]
    }
   ],
   "source": [
    "print(type(x))"
   ]
  },
  {
   "cell_type": "markdown",
   "id": "b0d70fe8-e849-4618-8bd4-828cc89669d6",
   "metadata": {},
   "source": [
    "## Multiple variables inside a print statement"
   ]
  },
  {
   "cell_type": "code",
   "execution_count": 46,
   "id": "91de999d-7989-4d40-9029-b6b07be76039",
   "metadata": {},
   "outputs": [],
   "source": [
    "num = 12\n",
    "name = \"Soumyansh\""
   ]
  },
  {
   "cell_type": "code",
   "execution_count": 50,
   "id": "cdfcea9c-bef6-4dfc-be99-d517b744104a",
   "metadata": {},
   "outputs": [
    {
     "name": "stdout",
     "output_type": "stream",
     "text": [
      "My number is:12, and my name is Soumyansh\n"
     ]
    }
   ],
   "source": [
    "print('My number is:{}, and my name is {}'.format(num,name))"
   ]
  },
  {
   "cell_type": "code",
   "execution_count": 52,
   "id": "16eb9b07-f776-4901-a0e3-23ad8da60792",
   "metadata": {},
   "outputs": [
    {
     "name": "stdout",
     "output_type": "stream",
     "text": [
      "My number is:12, and my name is Soumyansh\n"
     ]
    }
   ],
   "source": [
    "print('My number is:{one}, and my name is {two}'.format(one=num,two=name))"
   ]
  },
  {
   "cell_type": "code",
   "execution_count": 54,
   "id": "076d0999-44c7-4a8f-8645-159e6cb7f1f0",
   "metadata": {},
   "outputs": [
    {
     "name": "stdout",
     "output_type": "stream",
     "text": [
      "12 Soumyansh\n"
     ]
    }
   ],
   "source": [
    "print(12,'Soumyansh')"
   ]
  },
  {
   "cell_type": "code",
   "execution_count": null,
   "id": "027f35a5-52bc-4ad6-8ce2-13bcb49036b2",
   "metadata": {},
   "outputs": [],
   "source": []
  }
 ],
 "metadata": {
  "kernelspec": {
   "display_name": "Python 3 (ipykernel)",
   "language": "python",
   "name": "python3"
  },
  "language_info": {
   "codemirror_mode": {
    "name": "ipython",
    "version": 3
   },
   "file_extension": ".py",
   "mimetype": "text/x-python",
   "name": "python",
   "nbconvert_exporter": "python",
   "pygments_lexer": "ipython3",
   "version": "3.12.7"
  }
 },
 "nbformat": 4,
 "nbformat_minor": 5
}
