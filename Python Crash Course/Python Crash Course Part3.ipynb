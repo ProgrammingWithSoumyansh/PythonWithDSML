{
 "cells": [
  {
   "cell_type": "markdown",
   "id": "9951c4d2-ef86-46c2-b405-8e05f6af338f",
   "metadata": {},
   "source": [
    "## Dictionaries"
   ]
  },
  {
   "cell_type": "code",
   "execution_count": 3,
   "id": "86c0b897-2d93-4747-98a7-cb5c57e73687",
   "metadata": {},
   "outputs": [],
   "source": [
    "d = {'key1':'value','key2':'value2'}"
   ]
  },
  {
   "cell_type": "code",
   "execution_count": 5,
   "id": "b738e9bf-84d1-4aa7-9c30-a70c2b02c1a3",
   "metadata": {},
   "outputs": [],
   "source": [
    "d = {'name':'Soumyansh','place':'Delhi','Country':'India'}"
   ]
  },
  {
   "cell_type": "code",
   "execution_count": 7,
   "id": "bcee83e9-2012-4470-9ea5-83da1102119f",
   "metadata": {},
   "outputs": [
    {
     "data": {
      "text/plain": [
       "{'name': 'Soumyansh', 'place': 'Delhi', 'Country': 'India'}"
      ]
     },
     "execution_count": 7,
     "metadata": {},
     "output_type": "execute_result"
    }
   ],
   "source": [
    "d"
   ]
  },
  {
   "cell_type": "code",
   "execution_count": 9,
   "id": "7a67c6f4-89c9-45db-bbd1-80cd644de3fe",
   "metadata": {},
   "outputs": [
    {
     "data": {
      "text/plain": [
       "'Soumyansh'"
      ]
     },
     "execution_count": 9,
     "metadata": {},
     "output_type": "execute_result"
    }
   ],
   "source": [
    "## Individual Value access\n",
    "## dictionaryName['Key']\n",
    "\n",
    "d['name']"
   ]
  },
  {
   "cell_type": "code",
   "execution_count": 11,
   "id": "9478556c-f3d2-4497-96a5-7205c23b19fa",
   "metadata": {},
   "outputs": [
    {
     "data": {
      "text/plain": [
       "'Delhi'"
      ]
     },
     "execution_count": 11,
     "metadata": {},
     "output_type": "execute_result"
    }
   ],
   "source": [
    "d['place']"
   ]
  },
  {
   "cell_type": "code",
   "execution_count": 13,
   "id": "f7a01733-a601-4f06-961f-5ee45ce0fb83",
   "metadata": {},
   "outputs": [
    {
     "name": "stdout",
     "output_type": "stream",
     "text": [
      "name\n",
      "place\n",
      "Country\n"
     ]
    }
   ],
   "source": [
    "for i in d:\n",
    "    print(i)"
   ]
  },
  {
   "cell_type": "code",
   "execution_count": 15,
   "id": "ace8e742-6694-41c5-aeae-1b7c80d5828e",
   "metadata": {},
   "outputs": [
    {
     "name": "stdout",
     "output_type": "stream",
     "text": [
      "name Soumyansh\n",
      "place Delhi\n",
      "Country India\n"
     ]
    }
   ],
   "source": [
    "for i in d:\n",
    "    print(i,d[i])"
   ]
  },
  {
   "cell_type": "code",
   "execution_count": 17,
   "id": "17bdde13-b312-45a9-8ab4-bab40e7ef2fe",
   "metadata": {},
   "outputs": [
    {
     "name": "stdout",
     "output_type": "stream",
     "text": [
      "Soumyansh\n",
      "Delhi\n",
      "India\n"
     ]
    }
   ],
   "source": [
    "for i in d:\n",
    "    print(d[i])"
   ]
  },
  {
   "cell_type": "code",
   "execution_count": 19,
   "id": "736bd58f-ecb3-406a-9cd7-eb6f3ba3d3dd",
   "metadata": {},
   "outputs": [
    {
     "name": "stdout",
     "output_type": "stream",
     "text": [
      "Soumyansh\n",
      "Delhi\n",
      "India\n"
     ]
    }
   ],
   "source": [
    "for i in d.values():\n",
    "    print(i)"
   ]
  },
  {
   "cell_type": "code",
   "execution_count": 21,
   "id": "cd0d47a3-ecf6-4b47-921e-9c8b8c7a57d1",
   "metadata": {},
   "outputs": [
    {
     "name": "stdout",
     "output_type": "stream",
     "text": [
      "name\n",
      "place\n",
      "Country\n"
     ]
    }
   ],
   "source": [
    "for i in d.keys():\n",
    "    print(i)"
   ]
  },
  {
   "cell_type": "code",
   "execution_count": 23,
   "id": "81449120-fc9c-4f48-b2f5-db047d4b7e02",
   "metadata": {},
   "outputs": [
    {
     "name": "stdout",
     "output_type": "stream",
     "text": [
      "('name', 'Soumyansh')\n",
      "('place', 'Delhi')\n",
      "('Country', 'India')\n"
     ]
    }
   ],
   "source": [
    "for i in d.items():\n",
    "    print(i)"
   ]
  },
  {
   "cell_type": "markdown",
   "id": "e15603c7-f51e-43e4-8dd1-6131f966cb14",
   "metadata": {},
   "source": [
    "## Functions in Python"
   ]
  },
  {
   "cell_type": "code",
   "execution_count": 26,
   "id": "13f74d3a-a4b2-42c7-b829-d5a204f6ec1a",
   "metadata": {},
   "outputs": [],
   "source": [
    "def funcName():\n",
    "    print('This is a sample function')"
   ]
  },
  {
   "cell_type": "code",
   "execution_count": 28,
   "id": "5f15aa24-bb95-425b-a820-39cfbafd443f",
   "metadata": {},
   "outputs": [
    {
     "name": "stdout",
     "output_type": "stream",
     "text": [
      "This is a sample function\n"
     ]
    }
   ],
   "source": [
    "funcName()"
   ]
  },
  {
   "cell_type": "code",
   "execution_count": 30,
   "id": "00bc0763-f2c6-4481-a7cf-c4ca790618d5",
   "metadata": {},
   "outputs": [],
   "source": [
    "def greet(name):\n",
    "    print('Hello:'+name)"
   ]
  },
  {
   "cell_type": "code",
   "execution_count": 32,
   "id": "23f0b9dd-298c-4a41-b49f-39c2ba7055fd",
   "metadata": {},
   "outputs": [
    {
     "name": "stdout",
     "output_type": "stream",
     "text": [
      "Hello:Avinash\n"
     ]
    }
   ],
   "source": [
    "greet('Avinash')"
   ]
  },
  {
   "cell_type": "code",
   "execution_count": 34,
   "id": "6dd3dccd-fe1c-4dcd-9203-4b922a8c69af",
   "metadata": {},
   "outputs": [],
   "source": [
    "def sum(a,b):\n",
    "    print('Sum of parameters is:',a+b)"
   ]
  },
  {
   "cell_type": "code",
   "execution_count": 36,
   "id": "57de54d5-3a42-4a30-9a29-83a474a88df9",
   "metadata": {},
   "outputs": [
    {
     "name": "stdout",
     "output_type": "stream",
     "text": [
      "Sum of parameters is: 9\n"
     ]
    }
   ],
   "source": [
    "sum(4,5)"
   ]
  },
  {
   "cell_type": "markdown",
   "id": "693aca38-11b7-4595-b476-e0b531273494",
   "metadata": {},
   "source": [
    "## Return Keyword"
   ]
  },
  {
   "cell_type": "code",
   "execution_count": 41,
   "id": "eb3038ba-dda9-465a-9061-a865c33a14c2",
   "metadata": {},
   "outputs": [],
   "source": [
    "def sum(a,b):\n",
    "    addition = a+b;\n",
    "    return addition"
   ]
  },
  {
   "cell_type": "code",
   "execution_count": 43,
   "id": "5f9b87cd-f6e2-45e1-8a24-8dcd3c103a1c",
   "metadata": {},
   "outputs": [
    {
     "data": {
      "text/plain": [
       "9"
      ]
     },
     "execution_count": 43,
     "metadata": {},
     "output_type": "execute_result"
    }
   ],
   "source": [
    "sum(4,5)"
   ]
  },
  {
   "cell_type": "code",
   "execution_count": 45,
   "id": "2b4713df-e6a6-40e2-805e-51d142e871eb",
   "metadata": {},
   "outputs": [],
   "source": [
    "result = sum(4,5)"
   ]
  },
  {
   "cell_type": "code",
   "execution_count": 47,
   "id": "862022f9-48d3-4ade-88ac-84a8fcfc8139",
   "metadata": {},
   "outputs": [
    {
     "data": {
      "text/plain": [
       "9"
      ]
     },
     "execution_count": 47,
     "metadata": {},
     "output_type": "execute_result"
    }
   ],
   "source": [
    "result"
   ]
  },
  {
   "cell_type": "code",
   "execution_count": 51,
   "id": "c55749c7-9270-48eb-9d3f-7f5f67cd7ab0",
   "metadata": {},
   "outputs": [
    {
     "name": "stdout",
     "output_type": "stream",
     "text": [
      "Value of result is: 400\n"
     ]
    }
   ],
   "source": [
    "def square(n):\n",
    "    return n*n\n",
    "\n",
    "result = square(20)\n",
    "print('Value of result is:',result)"
   ]
  },
  {
   "cell_type": "code",
   "execution_count": null,
   "id": "2711adbd-e462-4396-9c58-26a6ad120c1a",
   "metadata": {},
   "outputs": [],
   "source": []
  }
 ],
 "metadata": {
  "kernelspec": {
   "display_name": "Python 3 (ipykernel)",
   "language": "python",
   "name": "python3"
  },
  "language_info": {
   "codemirror_mode": {
    "name": "ipython",
    "version": 3
   },
   "file_extension": ".py",
   "mimetype": "text/x-python",
   "name": "python",
   "nbconvert_exporter": "python",
   "pygments_lexer": "ipython3",
   "version": "3.12.7"
  }
 },
 "nbformat": 4,
 "nbformat_minor": 5
}
