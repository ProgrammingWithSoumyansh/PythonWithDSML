{
 "cells": [
  {
   "cell_type": "markdown",
   "id": "ae2f5b86-0fbf-407b-9377-83a73f505f91",
   "metadata": {},
   "source": [
    "## Lists"
   ]
  },
  {
   "cell_type": "code",
   "execution_count": 3,
   "id": "459027e7-e83e-4f81-9ed2-13a1e862adc1",
   "metadata": {},
   "outputs": [
    {
     "data": {
      "text/plain": [
       "[1, 2, 3]"
      ]
     },
     "execution_count": 3,
     "metadata": {},
     "output_type": "execute_result"
    }
   ],
   "source": [
    "[1,2,3]"
   ]
  },
  {
   "cell_type": "code",
   "execution_count": 5,
   "id": "da1d581b-c199-4798-9197-602188d47187",
   "metadata": {},
   "outputs": [
    {
     "name": "stdout",
     "output_type": "stream",
     "text": [
      "<class 'list'>\n"
     ]
    }
   ],
   "source": [
    "li = [1,2,3]\n",
    "print(type(li))"
   ]
  },
  {
   "cell_type": "code",
   "execution_count": 7,
   "id": "433d7270-47fd-4c6d-8b2b-eefe648c6ac4",
   "metadata": {},
   "outputs": [
    {
     "data": {
      "text/plain": [
       "['hi', 2, 3]"
      ]
     },
     "execution_count": 7,
     "metadata": {},
     "output_type": "execute_result"
    }
   ],
   "source": [
    "['hi',2,3]"
   ]
  },
  {
   "cell_type": "code",
   "execution_count": 9,
   "id": "e52bff9f-2e5e-4aab-ba19-990a9e760857",
   "metadata": {},
   "outputs": [
    {
     "data": {
      "text/plain": [
       "['hi', 1, [1, 2]]"
      ]
     },
     "execution_count": 9,
     "metadata": {},
     "output_type": "execute_result"
    }
   ],
   "source": [
    "li = ['hi',1,[1,2]]\n",
    "li"
   ]
  },
  {
   "cell_type": "code",
   "execution_count": 11,
   "id": "c58a8230-3904-41d5-be7b-7f00444d58f0",
   "metadata": {},
   "outputs": [
    {
     "data": {
      "text/plain": [
       "'hi'"
      ]
     },
     "execution_count": 11,
     "metadata": {},
     "output_type": "execute_result"
    }
   ],
   "source": [
    "li[0]"
   ]
  },
  {
   "cell_type": "code",
   "execution_count": 13,
   "id": "7fdb66c3-ba7a-487c-91b7-ea20dda6405d",
   "metadata": {},
   "outputs": [
    {
     "data": {
      "text/plain": [
       "[1, 2]"
      ]
     },
     "execution_count": 13,
     "metadata": {},
     "output_type": "execute_result"
    }
   ],
   "source": [
    "li[2]"
   ]
  },
  {
   "cell_type": "code",
   "execution_count": 15,
   "id": "35ce8295-ec61-4d4c-9112-5c835b835c2d",
   "metadata": {},
   "outputs": [
    {
     "data": {
      "text/plain": [
       "1"
      ]
     },
     "execution_count": 15,
     "metadata": {},
     "output_type": "execute_result"
    }
   ],
   "source": [
    "li[2][0]"
   ]
  },
  {
   "cell_type": "code",
   "execution_count": 17,
   "id": "21f456d6-2dd8-4e7c-866b-7864e3f38cab",
   "metadata": {},
   "outputs": [
    {
     "data": {
      "text/plain": [
       "['hi', 1, [1, 2], 'Soumyansh']"
      ]
     },
     "execution_count": 17,
     "metadata": {},
     "output_type": "execute_result"
    }
   ],
   "source": [
    "li.append('Soumyansh')\n",
    "li"
   ]
  },
  {
   "cell_type": "code",
   "execution_count": 19,
   "id": "385230bf-c106-4d95-a761-7939783560ca",
   "metadata": {},
   "outputs": [
    {
     "data": {
      "text/plain": [
       "'hi'"
      ]
     },
     "execution_count": 19,
     "metadata": {},
     "output_type": "execute_result"
    }
   ],
   "source": [
    "li[0]"
   ]
  },
  {
   "cell_type": "code",
   "execution_count": 21,
   "id": "0c9221dd-0f62-4f8d-a1e3-5149841c3a4b",
   "metadata": {},
   "outputs": [],
   "source": [
    "li[0] = \"new value\""
   ]
  },
  {
   "cell_type": "code",
   "execution_count": 23,
   "id": "749aa42a-a747-409c-b95d-3300f0591006",
   "metadata": {},
   "outputs": [
    {
     "data": {
      "text/plain": [
       "['new value', 1, [1, 2], 'Soumyansh']"
      ]
     },
     "execution_count": 23,
     "metadata": {},
     "output_type": "execute_result"
    }
   ],
   "source": [
    "li"
   ]
  },
  {
   "cell_type": "code",
   "execution_count": 25,
   "id": "3c75a759-c69b-4022-ba4f-fc0a9ef6cb23",
   "metadata": {},
   "outputs": [
    {
     "data": {
      "text/plain": [
       "['new value', 1, [1, 2], 'Soumyansh']"
      ]
     },
     "execution_count": 25,
     "metadata": {},
     "output_type": "execute_result"
    }
   ],
   "source": [
    "li"
   ]
  },
  {
   "cell_type": "code",
   "execution_count": 27,
   "id": "a2177671-aa4b-498a-8250-1e1c693854c3",
   "metadata": {},
   "outputs": [
    {
     "data": {
      "text/plain": [
       "[1, [1, 2]]"
      ]
     },
     "execution_count": 27,
     "metadata": {},
     "output_type": "execute_result"
    }
   ],
   "source": [
    "#li[startIndex:endIndex]\n",
    "li[1:3]"
   ]
  },
  {
   "cell_type": "code",
   "execution_count": 29,
   "id": "1de4ec5a-867a-463d-a096-cc78cedd874b",
   "metadata": {},
   "outputs": [
    {
     "data": {
      "text/plain": [
       "['b', 'c']"
      ]
     },
     "execution_count": 29,
     "metadata": {},
     "output_type": "execute_result"
    }
   ],
   "source": [
    "li = ['a','b','c','d','e']\n",
    "li[1:3]"
   ]
  },
  {
   "cell_type": "code",
   "execution_count": 31,
   "id": "3c210872-5ba3-4361-9ff2-7f244e0796d2",
   "metadata": {},
   "outputs": [
    {
     "data": {
      "text/plain": [
       "['b', 'c', 'd']"
      ]
     },
     "execution_count": 31,
     "metadata": {},
     "output_type": "execute_result"
    }
   ],
   "source": [
    "li[1:4]"
   ]
  },
  {
   "cell_type": "code",
   "execution_count": 33,
   "id": "97ba3d29-6333-4402-8b2d-50f960915c72",
   "metadata": {},
   "outputs": [
    {
     "data": {
      "text/plain": [
       "['a', 'b', 'c', 'd']"
      ]
     },
     "execution_count": 33,
     "metadata": {},
     "output_type": "execute_result"
    }
   ],
   "source": [
    "li[:-1]"
   ]
  },
  {
   "cell_type": "markdown",
   "id": "2272b4f4-915f-49c8-87c4-02c58b170ba8",
   "metadata": {},
   "source": [
    "## Dictionaries"
   ]
  },
  {
   "cell_type": "code",
   "execution_count": 36,
   "id": "ad66b889-d5b6-4328-a46f-59a9d1d56f3b",
   "metadata": {},
   "outputs": [
    {
     "data": {
      "text/plain": [
       "{'Key1': 'item1', 'key2': 'item2'}"
      ]
     },
     "execution_count": 36,
     "metadata": {},
     "output_type": "execute_result"
    }
   ],
   "source": [
    "d= {'Key1':'item1','key2':'item2'}\n",
    "d"
   ]
  },
  {
   "cell_type": "markdown",
   "id": "b905146f-566e-4c73-bea7-a707f4175eee",
   "metadata": {},
   "source": [
    "## Booleans"
   ]
  },
  {
   "cell_type": "code",
   "execution_count": 39,
   "id": "1865d1c4-cb67-4173-a378-82024595247b",
   "metadata": {},
   "outputs": [
    {
     "data": {
      "text/plain": [
       "True"
      ]
     },
     "execution_count": 39,
     "metadata": {},
     "output_type": "execute_result"
    }
   ],
   "source": [
    "True"
   ]
  },
  {
   "cell_type": "code",
   "execution_count": 41,
   "id": "6ebc7691-7058-405d-b769-454c1a5acd4b",
   "metadata": {},
   "outputs": [
    {
     "data": {
      "text/plain": [
       "False"
      ]
     },
     "execution_count": 41,
     "metadata": {},
     "output_type": "execute_result"
    }
   ],
   "source": [
    "False"
   ]
  },
  {
   "cell_type": "code",
   "execution_count": 47,
   "id": "d7568d8c-28d2-4c32-b31e-3725a89d43be",
   "metadata": {},
   "outputs": [
    {
     "name": "stdout",
     "output_type": "stream",
     "text": [
      "World\n"
     ]
    }
   ],
   "source": [
    "if(2>4):\n",
    "    print('Hello')\n",
    "else:\n",
    "    print('World')\n",
    "    "
   ]
  },
  {
   "cell_type": "markdown",
   "id": "36fc99b0-962c-4a50-87d6-2b2a42c83a2a",
   "metadata": {},
   "source": [
    "## Tuples"
   ]
  },
  {
   "cell_type": "code",
   "execution_count": 50,
   "id": "d75d778f-e6ad-41e2-a0ae-f7135214acd5",
   "metadata": {},
   "outputs": [],
   "source": [
    "t = (1,2,3)"
   ]
  },
  {
   "cell_type": "code",
   "execution_count": 52,
   "id": "50c584bd-c94b-4a5c-96eb-3b080f7029ee",
   "metadata": {},
   "outputs": [
    {
     "data": {
      "text/plain": [
       "(1, 2, 3)"
      ]
     },
     "execution_count": 52,
     "metadata": {},
     "output_type": "execute_result"
    }
   ],
   "source": [
    "t"
   ]
  },
  {
   "cell_type": "code",
   "execution_count": 54,
   "id": "9075c0d7-2578-40cb-8438-f614bdb2652e",
   "metadata": {},
   "outputs": [
    {
     "name": "stdout",
     "output_type": "stream",
     "text": [
      "<class 'tuple'>\n"
     ]
    }
   ],
   "source": [
    "print(type(t))"
   ]
  },
  {
   "cell_type": "code",
   "execution_count": 56,
   "id": "6d716f2a-1800-4da5-bf89-df1b46d902a9",
   "metadata": {},
   "outputs": [
    {
     "data": {
      "text/plain": [
       "1"
      ]
     },
     "execution_count": 56,
     "metadata": {},
     "output_type": "execute_result"
    }
   ],
   "source": [
    "t[0]"
   ]
  },
  {
   "cell_type": "code",
   "execution_count": 58,
   "id": "13cc6aa3-da65-4070-9de6-0470810021b9",
   "metadata": {},
   "outputs": [
    {
     "ename": "TypeError",
     "evalue": "'tuple' object does not support item assignment",
     "output_type": "error",
     "traceback": [
      "\u001b[1;31m---------------------------------------------------------------------------\u001b[0m",
      "\u001b[1;31mTypeError\u001b[0m                                 Traceback (most recent call last)",
      "Cell \u001b[1;32mIn[58], line 1\u001b[0m\n\u001b[1;32m----> 1\u001b[0m t[\u001b[38;5;241m0\u001b[39m]\u001b[38;5;241m=\u001b[39m\u001b[38;5;124m'\u001b[39m\u001b[38;5;124mNew value\u001b[39m\u001b[38;5;124m'\u001b[39m\n",
      "\u001b[1;31mTypeError\u001b[0m: 'tuple' object does not support item assignment"
     ]
    }
   ],
   "source": [
    "t[0]='New value'"
   ]
  },
  {
   "cell_type": "code",
   "execution_count": 60,
   "id": "3240e38b-b873-41e6-9d48-a9b27e65385e",
   "metadata": {},
   "outputs": [
    {
     "data": {
      "text/plain": [
       "(1, 2, 3)"
      ]
     },
     "execution_count": 60,
     "metadata": {},
     "output_type": "execute_result"
    }
   ],
   "source": [
    "t"
   ]
  },
  {
   "cell_type": "markdown",
   "id": "3f343e0b-fc7d-4044-8a89-b2a11586d3e7",
   "metadata": {},
   "source": [
    "## Set ## It doesnt store duplicates"
   ]
  },
  {
   "cell_type": "code",
   "execution_count": 63,
   "id": "2fd89ace-6756-4904-abf2-2b2b0c11ce75",
   "metadata": {},
   "outputs": [
    {
     "data": {
      "text/plain": [
       "{1, 2, 3}"
      ]
     },
     "execution_count": 63,
     "metadata": {},
     "output_type": "execute_result"
    }
   ],
   "source": [
    "{1,2,3}"
   ]
  },
  {
   "cell_type": "code",
   "execution_count": 69,
   "id": "438fe29a-1ea7-4d3e-b49a-108f80fcd8df",
   "metadata": {},
   "outputs": [
    {
     "data": {
      "text/plain": [
       "{1, 2, 3, 4, 5}"
      ]
     },
     "execution_count": 69,
     "metadata": {},
     "output_type": "execute_result"
    }
   ],
   "source": [
    "{1,2,3,4,5,5,5,2,2,2,1,1,1,4}"
   ]
  },
  {
   "cell_type": "markdown",
   "id": "e172720c-14a6-4fdf-a23d-a6e0b472f4b2",
   "metadata": {},
   "source": [
    "## Comparison Operators"
   ]
  },
  {
   "cell_type": "code",
   "execution_count": 73,
   "id": "622a7deb-c335-4ee6-8d7b-b51f93cbc20b",
   "metadata": {},
   "outputs": [
    {
     "data": {
      "text/plain": [
       "False"
      ]
     },
     "execution_count": 73,
     "metadata": {},
     "output_type": "execute_result"
    }
   ],
   "source": [
    "1>2"
   ]
  },
  {
   "cell_type": "code",
   "execution_count": 75,
   "id": "cb40ce74-0c32-4cfa-bb5e-34a14717819b",
   "metadata": {},
   "outputs": [
    {
     "data": {
      "text/plain": [
       "True"
      ]
     },
     "execution_count": 75,
     "metadata": {},
     "output_type": "execute_result"
    }
   ],
   "source": [
    "1<2"
   ]
  },
  {
   "cell_type": "code",
   "execution_count": 77,
   "id": "d72caf95-73cf-47c3-9c03-674541de62e5",
   "metadata": {},
   "outputs": [
    {
     "data": {
      "text/plain": [
       "False"
      ]
     },
     "execution_count": 77,
     "metadata": {},
     "output_type": "execute_result"
    }
   ],
   "source": [
    "'hi'=='Bye'"
   ]
  },
  {
   "cell_type": "code",
   "execution_count": 79,
   "id": "9056b8d0-7076-4256-b18b-ef094b66bd57",
   "metadata": {},
   "outputs": [
    {
     "data": {
      "text/plain": [
       "False"
      ]
     },
     "execution_count": 79,
     "metadata": {},
     "output_type": "execute_result"
    }
   ],
   "source": [
    "(1>2) and (2<3) ## and generally behaves as multiplication #0 = false, 1= True"
   ]
  },
  {
   "cell_type": "code",
   "execution_count": 81,
   "id": "4dfaf479-e3ba-492b-ab3f-9e241af30f5b",
   "metadata": {},
   "outputs": [
    {
     "data": {
      "text/plain": [
       "True"
      ]
     },
     "execution_count": 81,
     "metadata": {},
     "output_type": "execute_result"
    }
   ],
   "source": [
    "(1>2) or (2<3) ## or generally behaves as addition"
   ]
  },
  {
   "cell_type": "markdown",
   "id": "f30a1ac3-4926-4a0e-92b8-51b03ec6c65f",
   "metadata": {},
   "source": [
    "## If elif else statements"
   ]
  },
  {
   "cell_type": "code",
   "execution_count": 88,
   "id": "0b6fa24e-f82e-4b7c-8214-a10e6f60ea3d",
   "metadata": {},
   "outputs": [
    {
     "name": "stdout",
     "output_type": "stream",
     "text": [
      "World\n"
     ]
    }
   ],
   "source": [
    "if(1>2):\n",
    "    print(\"Hello\")\n",
    "else:\n",
    "    print(\"World\")\n",
    "    \n",
    "    "
   ]
  },
  {
   "cell_type": "code",
   "execution_count": 94,
   "id": "6e8a90ad-7139-438a-821d-0d668a410e70",
   "metadata": {},
   "outputs": [
    {
     "name": "stdout",
     "output_type": "stream",
     "text": [
      "middle condition 2\n"
     ]
    }
   ],
   "source": [
    "if(1==2):\n",
    "    print('first condition')\n",
    "elif (3>3):\n",
    "    print('middle condition')\n",
    "elif (4==4):\n",
    "    print('middle condition 2')\n",
    "else:\n",
    "    print('last')"
   ]
  },
  {
   "cell_type": "markdown",
   "id": "bea19b04-75ac-4f73-b926-9f7c5f5b44ef",
   "metadata": {},
   "source": [
    "## Loops"
   ]
  },
  {
   "cell_type": "code",
   "execution_count": 99,
   "id": "6ede1af2-01b4-4b47-83e8-35b07478a728",
   "metadata": {},
   "outputs": [
    {
     "name": "stdout",
     "output_type": "stream",
     "text": [
      "1\n",
      "2\n",
      "3\n",
      "4\n",
      "5\n"
     ]
    }
   ],
   "source": [
    "seq = [1,2,3,4,5]\n",
    "for i in seq:\n",
    "    print(i)"
   ]
  },
  {
   "cell_type": "code",
   "execution_count": 101,
   "id": "34407ec3-755c-40b4-8a8e-e3ed10074d3a",
   "metadata": {},
   "outputs": [
    {
     "name": "stdout",
     "output_type": "stream",
     "text": [
      "H\n",
      "e\n",
      "l\n",
      "l\n",
      "o\n"
     ]
    }
   ],
   "source": [
    "str = \"Hello\"\n",
    "for i in str:\n",
    "    print(i)"
   ]
  },
  {
   "cell_type": "code",
   "execution_count": 103,
   "id": "cdf96e20-b6a8-4b94-8747-ed407a8836db",
   "metadata": {},
   "outputs": [
    {
     "name": "stdout",
     "output_type": "stream",
     "text": [
      "H yep\n",
      "e yep\n",
      "l yep\n",
      "l yep\n",
      "o yep\n"
     ]
    }
   ],
   "source": [
    "str = \"Hello\"\n",
    "for i in str:\n",
    "    print(i,'yep')"
   ]
  },
  {
   "cell_type": "markdown",
   "id": "4b0bce3f-eff0-47c9-a943-dd3398be48f8",
   "metadata": {},
   "source": [
    "## While Loops"
   ]
  },
  {
   "cell_type": "code",
   "execution_count": 108,
   "id": "d681f415-7a40-40e3-87e7-966f536a2d47",
   "metadata": {},
   "outputs": [
    {
     "name": "stdout",
     "output_type": "stream",
     "text": [
      "Hello World 1\n",
      "Hello World 2\n",
      "Hello World 3\n",
      "Hello World 4\n"
     ]
    }
   ],
   "source": [
    "i = 1\n",
    "while(i<5):\n",
    "    print('Hello World',i)\n",
    "    i=i+1"
   ]
  },
  {
   "cell_type": "markdown",
   "id": "63f07f9f-f5dc-4623-abdc-0de1c782bd25",
   "metadata": {},
   "source": [
    "## range"
   ]
  },
  {
   "cell_type": "code",
   "execution_count": 115,
   "id": "07202f1b-10a9-46f3-838d-9acebf639f9e",
   "metadata": {},
   "outputs": [
    {
     "name": "stdout",
     "output_type": "stream",
     "text": [
      "0\n",
      "2\n",
      "4\n",
      "6\n",
      "8\n"
     ]
    }
   ],
   "source": [
    "for i in range(0,10,2):\n",
    "    print(i)"
   ]
  },
  {
   "cell_type": "code",
   "execution_count": 119,
   "id": "a7e3ab96-ada1-4da0-a07a-e2795cf31fe6",
   "metadata": {},
   "outputs": [
    {
     "data": {
      "text/plain": [
       "[0, 1, 2, 3, 4]"
      ]
     },
     "execution_count": 119,
     "metadata": {},
     "output_type": "execute_result"
    }
   ],
   "source": [
    "\n",
    "list(range(5))"
   ]
  },
  {
   "cell_type": "code",
   "execution_count": 123,
   "id": "b2a0d4aa-e8ee-45c4-9cec-6f7b06f4bf75",
   "metadata": {},
   "outputs": [
    {
     "name": "stdout",
     "output_type": "stream",
     "text": [
      "0\n",
      "1\n",
      "2\n",
      "3\n",
      "4\n"
     ]
    }
   ],
   "source": [
    "for i in range(5):\n",
    "    print(i)"
   ]
  },
  {
   "cell_type": "code",
   "execution_count": 127,
   "id": "450a5e7d-fa99-4122-8fde-3932593acfaf",
   "metadata": {},
   "outputs": [
    {
     "name": "stdout",
     "output_type": "stream",
     "text": [
      "{'h': 1, 'e': 1, 'l': 3, 'o': 2, 'w': 1, 'r': 1, 'd': 1}\n"
     ]
    }
   ],
   "source": [
    "## String - 'Hello World' -- character occurence -- H-1, e-1, l=3. o =2\n",
    "d = 'helloworld' #sample string\n",
    "output= {}\n",
    "for i in d:\n",
    "    if i in output:\n",
    "        output[i]=output[i]+1\n",
    "    else:\n",
    "        output[i]=1\n",
    "\n",
    "print(output)\n",
    "        "
   ]
  },
  {
   "cell_type": "code",
   "execution_count": null,
   "id": "e18f2355-d8c5-4275-9551-b64670169d87",
   "metadata": {},
   "outputs": [],
   "source": []
  }
 ],
 "metadata": {
  "kernelspec": {
   "display_name": "Python 3 (ipykernel)",
   "language": "python",
   "name": "python3"
  },
  "language_info": {
   "codemirror_mode": {
    "name": "ipython",
    "version": 3
   },
   "file_extension": ".py",
   "mimetype": "text/x-python",
   "name": "python",
   "nbconvert_exporter": "python",
   "pygments_lexer": "ipython3",
   "version": "3.12.7"
  }
 },
 "nbformat": 4,
 "nbformat_minor": 5
}
