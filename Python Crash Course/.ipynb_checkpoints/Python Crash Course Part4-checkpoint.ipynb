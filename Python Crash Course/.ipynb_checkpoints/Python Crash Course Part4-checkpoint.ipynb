{
 "cells": [
  {
   "cell_type": "markdown",
   "id": "451d6da4-41d7-47b7-8745-a73155838128",
   "metadata": {},
   "source": [
    "## Map And Filter"
   ]
  },
  {
   "cell_type": "code",
   "execution_count": 3,
   "id": "4bf70600-c790-489c-89e4-67ec1c3ce6d7",
   "metadata": {},
   "outputs": [
    {
     "data": {
      "text/plain": [
       "<function __main__.<lambda>(var)>"
      ]
     },
     "execution_count": 3,
     "metadata": {},
     "output_type": "execute_result"
    }
   ],
   "source": [
    "lambda var:var*2"
   ]
  },
  {
   "cell_type": "code",
   "execution_count": 5,
   "id": "997571f6-4bf8-4c0a-ab27-2e2f106a0c36",
   "metadata": {},
   "outputs": [
    {
     "data": {
      "text/plain": [
       "<map at 0x25ff181f070>"
      ]
     },
     "execution_count": 5,
     "metadata": {},
     "output_type": "execute_result"
    }
   ],
   "source": [
    "seq = [1,2,3,4,5]\n",
    "\n",
    "map(lambda var:var*2,seq)"
   ]
  },
  {
   "cell_type": "code",
   "execution_count": 7,
   "id": "a54acb8b-e22d-4282-9b83-08adc32e9f57",
   "metadata": {},
   "outputs": [
    {
     "data": {
      "text/plain": [
       "[2, 4, 6, 8, 10]"
      ]
     },
     "execution_count": 7,
     "metadata": {},
     "output_type": "execute_result"
    }
   ],
   "source": [
    "list(map(lambda var:var*2,seq))"
   ]
  },
  {
   "cell_type": "markdown",
   "id": "a41de330-0732-432e-973c-52ace9ae3c1b",
   "metadata": {},
   "source": [
    "## Filter"
   ]
  },
  {
   "cell_type": "code",
   "execution_count": 10,
   "id": "ed724df7-c8cb-49b6-aeed-9d8510efdda1",
   "metadata": {},
   "outputs": [
    {
     "data": {
      "text/plain": [
       "<function __main__.<lambda>(var)>"
      ]
     },
     "execution_count": 10,
     "metadata": {},
     "output_type": "execute_result"
    }
   ],
   "source": [
    "lambda var:var%2==0"
   ]
  },
  {
   "cell_type": "code",
   "execution_count": 12,
   "id": "24c95510-7ec0-4655-9c1b-e6bd290b923a",
   "metadata": {},
   "outputs": [],
   "source": [
    "seq = [1,2,3,4,5]"
   ]
  },
  {
   "cell_type": "code",
   "execution_count": 16,
   "id": "92440f6c-5697-4d5b-aa61-061e2d248c2b",
   "metadata": {},
   "outputs": [
    {
     "data": {
      "text/plain": [
       "<filter at 0x25ff2fffdf0>"
      ]
     },
     "execution_count": 16,
     "metadata": {},
     "output_type": "execute_result"
    }
   ],
   "source": [
    "filter(lambda var:var%2==0,seq)"
   ]
  },
  {
   "cell_type": "code",
   "execution_count": 18,
   "id": "03f95d56-776c-4220-a372-e036bd430480",
   "metadata": {},
   "outputs": [
    {
     "data": {
      "text/plain": [
       "[2, 4]"
      ]
     },
     "execution_count": 18,
     "metadata": {},
     "output_type": "execute_result"
    }
   ],
   "source": [
    "list(filter(lambda var:var%2==0,seq))"
   ]
  },
  {
   "cell_type": "markdown",
   "id": "5dfc4b70-2ac6-4ec5-8d77-7f1eda9a1744",
   "metadata": {},
   "source": [
    "## Basic String Functions"
   ]
  },
  {
   "cell_type": "code",
   "execution_count": 21,
   "id": "b019ab27-08f1-4fbc-b20a-e8da53994063",
   "metadata": {},
   "outputs": [],
   "source": [
    "s = 'Hello World'"
   ]
  },
  {
   "cell_type": "code",
   "execution_count": 23,
   "id": "c133ec84-3bd0-4210-818d-b741344be1ab",
   "metadata": {},
   "outputs": [
    {
     "data": {
      "text/plain": [
       "'hello world'"
      ]
     },
     "execution_count": 23,
     "metadata": {},
     "output_type": "execute_result"
    }
   ],
   "source": [
    "s.lower()"
   ]
  },
  {
   "cell_type": "code",
   "execution_count": 25,
   "id": "4e087994-d9c8-4e34-a2ae-8bb59cb19a6f",
   "metadata": {},
   "outputs": [
    {
     "data": {
      "text/plain": [
       "'HELLO WORLD'"
      ]
     },
     "execution_count": 25,
     "metadata": {},
     "output_type": "execute_result"
    }
   ],
   "source": [
    "s.upper()"
   ]
  },
  {
   "cell_type": "code",
   "execution_count": 27,
   "id": "ba68099f-2984-4e00-b8a3-de5050c1af7f",
   "metadata": {},
   "outputs": [
    {
     "data": {
      "text/plain": [
       "['Hello', 'my', 'name', 'is', 'Soumyansh']"
      ]
     },
     "execution_count": 27,
     "metadata": {},
     "output_type": "execute_result"
    }
   ],
   "source": [
    "s = 'Hello#my name is Soumyansh'\n",
    "s.split(\"#\")"
   ]
  },
  {
   "cell_type": "code",
   "execution_count": null,
   "id": "a64d8ad4-20e8-4913-ad5c-bdae92a1e6a2",
   "metadata": {},
   "outputs": [],
   "source": []
  }
 ],
 "metadata": {
  "kernelspec": {
   "display_name": "Python 3 (ipykernel)",
   "language": "python",
   "name": "python3"
  },
  "language_info": {
   "codemirror_mode": {
    "name": "ipython",
    "version": 3
   },
   "file_extension": ".py",
   "mimetype": "text/x-python",
   "name": "python",
   "nbconvert_exporter": "python",
   "pygments_lexer": "ipython3",
   "version": "3.12.7"
  }
 },
 "nbformat": 4,
 "nbformat_minor": 5
}
